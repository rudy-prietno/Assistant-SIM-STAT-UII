{
 "cells": [
  {
   "cell_type": "code",
   "execution_count": null,
   "metadata": {},
   "outputs": [],
   "source": [
    "# modules\n",
    "\n",
    "import sys\n",
    "path='path directory to commandl'\n",
    "sys.path.insert(0, path)\n",
    "\n",
    "from commandl import command"
   ]
  },
  {
   "cell_type": "markdown",
   "metadata": {},
   "source": [
    "## linux command basic\n",
    "\n",
    "to see the command cheat sheet detail you can click the reference link.\n",
    " \n",
    "Ref: [Linux commands cheat sheet](https://phoenixnap.com/kb/linux-commands-cheat-sheet)\n",
    "\n",
    "command category:\n",
    "\n",
    "1. Hardware Information\n",
    "2. Searching\n",
    "3. File Commands\n",
    "4. Directory Navigation\n",
    "5. File Compression\n",
    "6. File Transfer\n",
    "7. Users\n",
    "8. Package Installation\n",
    "9. Process Related\n",
    "10. System Information\n",
    "11.\tHardware Information\n",
    "12.\tDisk Usage\n",
    "13.\tSSH Login\n",
    "14.\tFile Permission\n",
    "15.\tNetwork\n"
   ]
  },
  {
   "cell_type": "markdown",
   "metadata": {},
   "source": [
    "## most often used is as follows\n"
   ]
  },
  {
   "cell_type": "code",
   "execution_count": null,
   "metadata": {
    "tags": []
   },
   "outputs": [],
   "source": [
    "# display free and used memory\n",
    "space_memory= command.commandline('free -h')\n",
    "space_memory.execute()"
   ]
  },
  {
   "cell_type": "code",
   "execution_count": null,
   "metadata": {
    "tags": []
   },
   "outputs": [],
   "source": [
    "# show path working directory\n",
    "show_pathdir= command.commandline('pwd')\n",
    "show_pathdir.execute()"
   ]
  },
  {
   "cell_type": "code",
   "execution_count": null,
   "metadata": {
    "tags": []
   },
   "outputs": [],
   "source": [
    "# show file in directory\n",
    "show_file= command.commandline('ls -l /path file')\n",
    "show_file.execute()"
   ]
  },
  {
   "cell_type": "code",
   "execution_count": null,
   "metadata": {
    "tags": []
   },
   "outputs": [],
   "source": [
    "# search based on a particular keyword\n",
    "search_loc= command.commandline('locate keyword')\n",
    "search_loc.execute()"
   ]
  },
  {
   "cell_type": "code",
   "execution_count": null,
   "metadata": {},
   "outputs": [],
   "source": [
    "# search based on a specific filename\n",
    "search= command.commandline('find -name filename')\n",
    "search.execute()"
   ]
  },
  {
   "cell_type": "code",
   "execution_count": null,
   "metadata": {},
   "outputs": [],
   "source": [
    "# create a new directory\n",
    "makedir= command.commandline('mkdir directory name')\n",
    "makedir.execute()"
   ]
  },
  {
   "cell_type": "code",
   "execution_count": null,
   "metadata": {},
   "outputs": [],
   "source": [
    "# create file\n",
    "# tricks:\n",
    "#   1. create file empty and append data\n",
    "#   2. create files and enter data directly\n",
    "\n",
    "\n",
    "#   1. create file empty and append data\n",
    "create_empty= command.commandline('touch test.csv')\n",
    "create_empty.execute()\n",
    "\n",
    "append_data= command.commandline(\n",
    "                              '''{   \n",
    "                                echo '  column_1,column_2,column_3,column_4'\n",
    "                                echo '  0097A,0374D,100903,1519'\n",
    "                                echo '  0097A,C88RA,100903,0724'\n",
    "                            } >> test.csv\n",
    "                        ''')\n",
    "append_data.execute()\n",
    "\n",
    "#   2. create files and enter data directly\n",
    "create_file= command.commandline('''\n",
    "cat <<EOT >> greetings.txt \n",
    "column_1,column_2,column_3,column_4 \n",
    "0097A,0374D,100903,1519\n",
    "0097A,C88RA,100903,0724 \n",
    "EOT\n",
    "''')\n",
    "create_file.execute()"
   ]
  },
  {
   "cell_type": "code",
   "execution_count": null,
   "metadata": {
    "tags": []
   },
   "outputs": [],
   "source": [
    "# print or display data\n",
    "display_data= command.commandline('cat filename')\n",
    "display_data= command.commandline('cat filename | head -n')\n",
    "display_data= command.commandline('cat filename | tail -n')\n",
    "display_data.execute()"
   ]
  },
  {
   "cell_type": "code",
   "execution_count": null,
   "metadata": {},
   "outputs": [],
   "source": [
    "# move file\n",
    "move_file= command.commandline('mv \"origin path file\" \"destination path file\"')\n",
    "move_file.execute()"
   ]
  },
  {
   "cell_type": "code",
   "execution_count": null,
   "metadata": {},
   "outputs": [],
   "source": [
    "# copy file\n",
    "copy_file= command.commandline('cp \"origin path file\" \"destination path file\"')\n",
    "copy_file.execute()"
   ]
  },
  {
   "cell_type": "code",
   "execution_count": null,
   "metadata": {},
   "outputs": [],
   "source": [
    "# remove file or directory without requiring confirmation\n",
    "rm_file= command.commandline('rm -rf path to file')\n",
    "rm_file.execute()"
   ]
  },
  {
   "cell_type": "code",
   "execution_count": null,
   "metadata": {
    "tags": []
   },
   "outputs": [],
   "source": [
    "# display who is currently logged into the system \n",
    "user_who= command.commandline('who')\n",
    "user_who.execute()"
   ]
  },
  {
   "cell_type": "code",
   "execution_count": null,
   "metadata": {},
   "outputs": [],
   "source": [
    "# Add a new group\n",
    "groups_new= command.commandline('groupadd group_name')\n",
    "groups_new.execute()"
   ]
  },
  {
   "cell_type": "code",
   "execution_count": null,
   "metadata": {},
   "outputs": [],
   "source": [
    "# Add a new user\n",
    "users_new= command.commandline('adduser user_name')\n",
    "users_new.execute()"
   ]
  },
  {
   "cell_type": "code",
   "execution_count": null,
   "metadata": {},
   "outputs": [],
   "source": [
    "# Add a user to a group\n",
    "userTogroup = command.commandline('usermod -aG group_name user_name')\n",
    "userTogroup.execute()"
   ]
  },
  {
   "cell_type": "code",
   "execution_count": null,
   "metadata": {
    "tags": []
   },
   "outputs": [],
   "source": [
    "# show list users\n",
    "list_users= command.commandline('cut -d: -f1 /etc/passwd')\n",
    "list_users.execute()"
   ]
  },
  {
   "cell_type": "code",
   "execution_count": null,
   "metadata": {},
   "outputs": [],
   "source": [
    "# remove user\n",
    "rm_u= command.commandline('userdel user_name')\n",
    "rm_u.execute() "
   ]
  },
  {
   "cell_type": "code",
   "execution_count": null,
   "metadata": {},
   "outputs": [],
   "source": [
    "# remove group\n",
    "rm_gr= command.commandline('groupdel group_name')\n",
    "rm_gr.execute()"
   ]
  },
  {
   "cell_type": "markdown",
   "metadata": {},
   "source": [
    "##  apt command\n",
    "\n",
    "ref: [apt-get command](https://help.ubuntu.com/community/AptGet/Howto)"
   ]
  },
  {
   "cell_type": "code",
   "execution_count": null,
   "metadata": {
    "tags": []
   },
   "outputs": [],
   "source": [
    "# show list packages installed based on keyword\n",
    "list_packages= command.commandline('apt list | grep keyword')\n",
    "list_packages.execute()"
   ]
  },
  {
   "cell_type": "code",
   "execution_count": null,
   "metadata": {},
   "outputs": [],
   "source": [
    "# install a package using the APT package manager\n",
    "install= command.commandline('apt-get install package_name')\n",
    "install.execute()"
   ]
  },
  {
   "cell_type": "code",
   "execution_count": null,
   "metadata": {},
   "outputs": [],
   "source": [
    "# update function is to get the latest \"list\" of components based on components configured in a terminal\n",
    "update= command.commandline('apt-get update')\n",
    "update.execute()"
   ]
  },
  {
   "cell_type": "code",
   "execution_count": null,
   "metadata": {},
   "outputs": [],
   "source": [
    "# this command completely removes a package and the associated configuration files.\n",
    "remove= command.commandline('apt-get purge package_name')\n",
    "remove.execute()"
   ]
  },
  {
   "cell_type": "code",
   "execution_count": null,
   "metadata": {
    "tags": []
   },
   "outputs": [],
   "source": [
    "# procedure to find process by name\n",
    "process= command.commandline('ps aux | grep \"search-term\"')\n",
    "process.execute()"
   ]
  },
  {
   "cell_type": "code",
   "execution_count": null,
   "metadata": {
    "tags": []
   },
   "outputs": [],
   "source": [
    "# Terminate a Linux process under a given ID\n",
    "terminate_id= command.commandline('kill process_id')\n",
    "terminate_id.execute()\n",
    "\n",
    "# Terminate a process under a specific name\n",
    "terminate_name= command.commandline('pkill proc_name')\n",
    "terminate_name.execute()"
   ]
  },
  {
   "cell_type": "code",
   "execution_count": null,
   "metadata": {
    "tags": []
   },
   "outputs": [],
   "source": [
    "# hostname\n",
    "hostname= command.commandline('hostname')\n",
    "hostname.execute()"
   ]
  },
  {
   "cell_type": "code",
   "execution_count": null,
   "metadata": {
    "tags": []
   },
   "outputs": [],
   "source": [
    "# show the IP address of the system\n",
    "hostname= command.commandline('hostname -i')\n",
    "hostname.execute()"
   ]
  },
  {
   "cell_type": "code",
   "execution_count": null,
   "metadata": {
    "tags": []
   },
   "outputs": [],
   "source": [
    "# Show the local IP address all\n",
    "hostname_ = command.commandline('hostname -I')\n",
    "hostname_.execute()"
   ]
  },
  {
   "cell_type": "code",
   "execution_count": null,
   "metadata": {
    "tags": []
   },
   "outputs": [],
   "source": [
    "# see which user you are using\n",
    "who_me= command.commandline('whoami')\n",
    "who_me.execute()"
   ]
  },
  {
   "cell_type": "code",
   "execution_count": null,
   "metadata": {
    "tags": []
   },
   "outputs": [],
   "source": [
    "# file Permission\n",
    "# assign read, write, and execute permission = 777\n",
    "# assign read, write, and execute permission to owner, and read and execute permission to group and others = 755\n",
    "# assign full permission to owner, and read and write permission to group and others = 766\n",
    "\n",
    "permission= command.commandline('chmod \"assign permission\" path file')\n",
    "permission.execute()"
   ]
  },
  {
   "cell_type": "code",
   "execution_count": null,
   "metadata": {},
   "outputs": [],
   "source": [
    "# change the owner and group ownership \n",
    "owner= command.commandline('chown user path file')\n",
    "owner= command.commandline('chown user:group pathfile')\n",
    "owner.execute()"
   ]
  }
 ],
 "metadata": {
  "language_info": {
   "codemirror_mode": {
    "name": "ipython",
    "version": 3
   },
   "file_extension": ".py",
   "mimetype": "text/x-python",
   "name": "python",
   "nbconvert_exporter": "python",
   "pygments_lexer": "ipython3",
   "version": "3.7.7-final"
  },
  "orig_nbformat": 2,
  "kernelspec": {
   "name": "python37764bitulwanconda5356d95607c04bdea693a2fc92842d08",
   "display_name": "Python 3.7.7 64-bit ('ulwan': conda)"
  }
 },
 "nbformat": 4,
 "nbformat_minor": 2
}