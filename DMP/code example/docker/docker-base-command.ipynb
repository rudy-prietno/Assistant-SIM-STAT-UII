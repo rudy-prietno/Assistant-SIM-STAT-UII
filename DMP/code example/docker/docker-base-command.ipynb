{
 "cells": [
  {
   "cell_type": "code",
   "execution_count": null,
   "metadata": {},
   "outputs": [],
   "source": [
    "# modules\n",
    "\n",
    "import sys\n",
    "path='path directory to commandl'\n",
    "sys.path.insert(0, path)\n",
    "\n",
    "from commandl import command"
   ]
  },
  {
   "cell_type": "markdown",
   "metadata": {},
   "source": [
    "## Docker Commandline \n",
    "\n",
    "Ref: [Detail documentations docker Commandline](https://docs.docker.com/engine/reference/commandline/docker/)\n",
    "\n"
   ]
  },
  {
   "cell_type": "markdown",
   "metadata": {},
   "source": [
    "### The most used commands"
   ]
  },
  {
   "cell_type": "code",
   "execution_count": null,
   "metadata": {},
   "outputs": [],
   "source": [
    "# docker help commands for show documentation\n",
    "command_help_docker= command.commandline('docker --help')\n",
    "command_help_docker.execute()"
   ]
  },
  {
   "cell_type": "code",
   "execution_count": null,
   "metadata": {},
   "outputs": [],
   "source": [
    "# docker command show images\n",
    "show_images= command.commandline('docker images')\n",
    "show_images.execute()"
   ]
  },
  {
   "cell_type": "code",
   "execution_count": null,
   "metadata": {},
   "outputs": [],
   "source": [
    "# docker command show containers\n",
    "show_container=  command.commandline('docker ps -a | docker container ls --all')\n",
    "show_container.execute()"
   ]
  },
  {
   "cell_type": "code",
   "execution_count": null,
   "metadata": {},
   "outputs": [],
   "source": [
    "# docker command pull"
   ]
  },
  {
   "cell_type": "code",
   "execution_count": null,
   "metadata": {},
   "outputs": [],
   "source": [
    "# docker command run"
   ]
  },
  {
   "cell_type": "markdown",
   "metadata": {},
   "source": [
    "## docker build concept\n",
    "\n",
    "example 1:\n",
    "create API's \"hello wolrd\"\n",
    "\n",
    "\n"
   ]
  },
  {
   "cell_type": "code",
   "execution_count": null,
   "metadata": {},
   "outputs": [],
   "source": [
    "# docker command build hello world\n",
    "build_image_hello= command.commandline('docker build -t name_image:tag/version -f path directory/Dockerfile .')\n",
    "build_image_hello.execute()"
   ]
  },
  {
   "cell_type": "code",
   "execution_count": null,
   "metadata": {},
   "outputs": [],
   "source": [
    "# docker command show images\n",
    "show_images_hello= command.commandline('docker images')\n",
    "show_images_hello.execute()"
   ]
  },
  {
   "cell_type": "code",
   "execution_count": null,
   "metadata": {},
   "outputs": [],
   "source": [
    "# docker command run hello world\n",
    "running_image_hello= command.commandline('docker run --name naming_container -d -p port_external:port_container name_image:tag/version')\n",
    "running_image_hello.execute()"
   ]
  },
  {
   "cell_type": "code",
   "execution_count": null,
   "metadata": {},
   "outputs": [],
   "source": [
    "# docker command show containers\n",
    "show_container_hello=  command.commandline('docker ps -a | docker container ls --all')\n",
    "show_container_hello.execute()"
   ]
  },
  {
   "cell_type": "markdown",
   "metadata": {},
   "source": [
    "## see the result\n",
    "you can see the result in address http://host:port_external/ or http://host:port_external/ \n",
    "or you can install and use tools like [postman](https://www.postman.com/) \n"
   ]
  },
  {
   "cell_type": "code",
   "execution_count": null,
   "metadata": {},
   "outputs": [],
   "source": [
    "# docker commmand push"
   ]
  },
  {
   "cell_type": "code",
   "execution_count": null,
   "metadata": {},
   "outputs": [],
   "source": [
    "# docker command start, stop, remove container"
   ]
  },
  {
   "cell_type": "code",
   "execution_count": null,
   "metadata": {},
   "outputs": [],
   "source": [
    "# docker commmand remove images"
   ]
  },
  {
   "cell_type": "markdown",
   "metadata": {},
   "source": [
    "## rare used but necessary !!!!!\n"
   ]
  },
  {
   "cell_type": "code",
   "execution_count": null,
   "metadata": {},
   "outputs": [],
   "source": [
    "# docker help command for show documentation volume\n",
    "help_volume= command.commandline(\"docker volume --help\")\n",
    "help_volume.execute()"
   ]
  },
  {
   "cell_type": "code",
   "execution_count": null,
   "metadata": {},
   "outputs": [],
   "source": [
    "# docker show info of volume\n",
    "show_volume= command.commandline(\"docker volume ls\")\n",
    "show_volume.execute()"
   ]
  },
  {
   "cell_type": "code",
   "execution_count": null,
   "metadata": {},
   "outputs": [],
   "source": [
    "# docker show id_container and name_container only\n",
    "show_simple_container= command.commandline('docker ps -a --format \"table {{.ID}}\\t{{.Names}}\"')\n",
    "show_simple_container.execute()"
   ]
  },
  {
   "cell_type": "code",
   "execution_count": null,
   "metadata": {},
   "outputs": [],
   "source": [
    "# docker help command for show documentation network\n",
    "help_network= command.commandline(\"docker network --help\")\n",
    "help_network.execute()"
   ]
  },
  {
   "cell_type": "code",
   "execution_count": null,
   "metadata": {},
   "outputs": [],
   "source": [
    "# show docker network info\n",
    "show_network= command.commandline('docker network ls')\n",
    "show_network.execute()"
   ]
  },
  {
   "cell_type": "code",
   "execution_count": null,
   "metadata": {},
   "outputs": [],
   "source": [
    "# get a docker container network detail\n",
    "network_detail=command.commandline('docker network inspect network_id')\n",
    "network_detail.execute()"
   ]
  },
  {
   "cell_type": "code",
   "execution_count": null,
   "metadata": {},
   "outputs": [],
   "source": [
    "# get a docker name container + IPv4Address only\n",
    "IP4_container=command.commandline (\"docker inspect -f '{{.Name}} - {{range .NetworkSettings.Networks}}{{.IPAddress}}{{end}}' $(docker ps -aq)\")\n",
    "IP4_container.execute()"
   ]
  },
  {
   "cell_type": "markdown",
   "metadata": {},
   "source": [
    "## Orchestrate Containers with Docker-Compose \n",
    "\n",
    "Ref: [Docker-compose documentations detail](https://docs.docker.com/compose/reference/overview/)"
   ]
  },
  {
   "cell_type": "code",
   "execution_count": null,
   "metadata": {},
   "outputs": [],
   "source": [
    "# docker-compose help commands for show documentation\n",
    "command_help_docker= command.commandline('docker-compose --help')\n",
    "command_help_docker.execute()"
   ]
  },
  {
   "cell_type": "code",
   "execution_count": null,
   "metadata": {},
   "outputs": [],
   "source": [
    "# docker-compose create and start containers\n",
    "compose_run= command.commandline('docker-compose  -f path to file docker-compose.yml up -d')\n",
    "compose_run.execute()"
   ]
  },
  {
   "cell_type": "code",
   "execution_count": null,
   "metadata": {},
   "outputs": [],
   "source": [
    "# docker-compose Stop and remove containers, networks, images, and volumes\n",
    "compose_dead= command.commandline('docker-compose -f path to file docker-compose.yml down')\n",
    "compose_dead.execute()"
   ]
  },
  {
   "cell_type": "markdown",
   "metadata": {},
   "source": [
    "## This is ways to access and operation a container\n",
    "-  Access specific container + run command\n",
    "    -  docker exec + container_id|container_name + command"
   ]
  },
  {
   "cell_type": "code",
   "execution_count": null,
   "metadata": {},
   "outputs": [],
   "source": [
    "# access and operation container \n",
    "container= command.commandline(\"docker exec container_id|container_name command\")\n",
    "container.execute()"
   ]
  }
 ],
 "metadata": {
  "language_info": {
   "codemirror_mode": {
    "name": "ipython",
    "version": 3
   },
   "file_extension": ".py",
   "mimetype": "text/x-python",
   "name": "python",
   "nbconvert_exporter": "python",
   "pygments_lexer": "ipython3",
   "version": "3.7.7-final"
  },
  "orig_nbformat": 2,
  "kernelspec": {
   "name": "python37764bitulwanconda5356d95607c04bdea693a2fc92842d08",
   "display_name": "Python 3.7.7 64-bit ('ulwan': conda)"
  }
 },
 "nbformat": 4,
 "nbformat_minor": 2
}