{
 "cells": [
  {
   "cell_type": "code",
   "execution_count": null,
   "metadata": {},
   "outputs": [],
   "source": [
    "# modules\n",
    "\n",
    "import sys\n",
    "path='path directory to commandl'\n",
    "sys.path.insert(0, path)\n",
    "\n",
    "from commandl import command"
   ]
  },
  {
   "cell_type": "markdown",
   "metadata": {},
   "source": [
    "## Docker Commandline \n",
    "\n",
    "Ref: [Detail documentations docker Commandline](https://docs.docker.com/engine/reference/commandline/docker/)\n",
    "\n"
   ]
  },
  {
   "cell_type": "markdown",
   "metadata": {},
   "source": [
    "### The most used commands"
   ]
  },
  {
   "cell_type": "code",
   "execution_count": null,
   "metadata": {},
   "outputs": [],
   "source": [
    "# docker help commands for show documentation\n",
    "command_help_docker= command.commandline('docker --help')\n",
    "command_help_docker.execute()"
   ]
  },
  {
   "cell_type": "code",
   "execution_count": null,
   "metadata": {},
   "outputs": [],
   "source": [
    "# docker command show images\n",
    "show_images= command.commandline('docker images')\n",
    "show_images.execute()"
   ]
  },
  {
   "cell_type": "code",
   "execution_count": null,
   "metadata": {},
   "outputs": [],
   "source": [
    "# docker command show containers\n",
    "show_container=  command.commandline('docker ps -a | docker container ls --all')\n",
    "show_container.execute()"
   ]
  },
  {
   "cell_type": "code",
   "execution_count": null,
   "metadata": {},
   "outputs": [],
   "source": [
    "# docker command pull\n",
    "pull_image= command.commandline('docker pull image_name:tag')\n",
    "pull_image.execute()"
   ]
  },
  {
   "cell_type": "code",
   "execution_count": null,
   "metadata": {},
   "outputs": [],
   "source": [
    "# docker command run detail info\n",
    "running_image= command.commandline('docker run --help')\n",
    "running_image.execute()"
   ]
  },
  {
   "cell_type": "markdown",
   "metadata": {},
   "source": [
    "## docker build concept\n",
    "\n",
    "example 1:\n",
    "create API's \"hello wolrd\"\n",
    "\n",
    "first step:\n",
    "\n",
    "- create a file application for \"hello world\" in code python\n",
    "\n",
    "second step:\n",
    "\n",
    "- create a file with the name \"Dockerfile\", the minimum standards for writing files as follows:\n",
    "\n",
    "     [Dockerfile best practice](https://docs.docker.com/develop/develop-images/dockerfile_best-practices/)\n",
    "\n",
    "          - FROM (names of existing images)\n",
    "          - EXPOSE (port for container)\n",
    "          - RUN (an install or Linux / Unix command)\n",
    "          - COPY (copy file from local to your container)\n",
    "          - WORKDIR (specify where the active directory is in the container)\n",
    "          - CMD (enter command line to run apps)"
   ]
  },
  {
   "cell_type": "code",
   "execution_count": null,
   "metadata": {},
   "outputs": [],
   "source": [
    "# docker command build hello world\n",
    "build_image_hello= command.commandline('docker build -t name_image:tag/version -f path directory/Dockerfile .')\n",
    "build_image_hello.execute()"
   ]
  },
  {
   "cell_type": "code",
   "execution_count": null,
   "metadata": {},
   "outputs": [],
   "source": [
    "# docker command show images\n",
    "show_images_hello= command.commandline('docker images')\n",
    "show_images_hello.execute()"
   ]
  },
  {
   "cell_type": "code",
   "execution_count": null,
   "metadata": {},
   "outputs": [],
   "source": [
    "# docker command run hello world\n",
    "running_image_hello= command.commandline('docker run --name naming_container -d -p port_external:port_container name_image:tag/version')\n",
    "running_image_hello.execute()"
   ]
  },
  {
   "cell_type": "code",
   "execution_count": null,
   "metadata": {},
   "outputs": [],
   "source": [
    "# docker command show containers\n",
    "show_container_hello=  command.commandline('docker ps -a | docker container ls --all')\n",
    "show_container_hello.execute()"
   ]
  },
  {
   "cell_type": "markdown",
   "metadata": {},
   "source": [
    "## see the result\n",
    "you can see the result in address http://host:port_external/ or http://host:port_external/ \n",
    "or you can install and use tools like [postman](https://www.postman.com/) \n"
   ]
  },
  {
   "cell_type": "markdown",
   "metadata": {},
   "source": [
    "## docker build concept\n",
    "\n",
    "example 2:\n",
    "create database\n"
   ]
  },
  {
   "cell_type": "code",
   "execution_count": null,
   "metadata": {},
   "outputs": [],
   "source": []
  },
  {
   "cell_type": "code",
   "execution_count": null,
   "metadata": {},
   "outputs": [],
   "source": []
  },
  {
   "cell_type": "markdown",
   "metadata": {},
   "source": [
    "## docker push into registry\n",
    "### There are several popular registry docker options:\n",
    "\n",
    "    - AWS = AWS EC2 Container Registry (ECR)\n",
    "    - GCP = Google Container Registry\n",
    "    - Docker = Docker Hub\n",
    "\n",
    "For purpose of understanding the concept of registry, we can use the docker version of registry, the [docker hub](https://hub.docker.com/)\n",
    "\n",
    "first step\n",
    "\n",
    "    - create account in docker hub\n",
    "    - create repository\n",
    "\n",
    "second step\n",
    "\n",
    "    - do image naming adjustments and sign in to the registry docker, then push the images you have "
   ]
  },
  {
   "cell_type": "code",
   "execution_count": null,
   "metadata": {},
   "outputs": [],
   "source": [
    "# docker commmand naming adjustments\n",
    "naming_image_adjust= command.commandline('docker tag image_name:tag docker id/image_name:tagname')\n",
    "naming_image_adjust.execute()\n",
    "\n",
    "# go to extention docker \n",
    "# click \"registries\" >> click \"connect registry\" >> put \"docker id\" >> put \"docker password\"\n",
    "\n",
    "# docker push images into docker registry\n",
    "push_images= command.commandline('docker push docker id/image_name:tagname')\n",
    "push_images.execute()"
   ]
  },
  {
   "cell_type": "code",
   "execution_count": null,
   "metadata": {},
   "outputs": [],
   "source": [
    "# docker command start, stop, remove container\n",
    "stop_container= command.commandline ('docker stop container_name')\n",
    "stop_container.execute()\n",
    "\n",
    "start_container=  command.commandline ('docker start container_name')\n",
    "start_container.execute()\n",
    "\n",
    "# before removing the container make sure that the container is in a exits position\n",
    "remove_container= command.commandline ('docker start container_name')\n",
    "start_container.execute()"
   ]
  },
  {
   "cell_type": "code",
   "execution_count": null,
   "metadata": {},
   "outputs": [],
   "source": [
    "# docker commmand remove images\n",
    "remove_image= command.commandline ('docker rmi image_name')\n",
    "remove_image.execute()"
   ]
  },
  {
   "cell_type": "markdown",
   "metadata": {},
   "source": [
    "## rare used but necessary !!!!!\n"
   ]
  },
  {
   "cell_type": "code",
   "execution_count": null,
   "metadata": {},
   "outputs": [],
   "source": [
    "# docker help command for show documentation volume\n",
    "help_volume= command.commandline(\"docker volume --help\")\n",
    "help_volume.execute()"
   ]
  },
  {
   "cell_type": "code",
   "execution_count": null,
   "metadata": {},
   "outputs": [],
   "source": [
    "# docker show info of volume\n",
    "show_volume= command.commandline(\"docker volume ls\")\n",
    "show_volume.execute()"
   ]
  },
  {
   "cell_type": "code",
   "execution_count": null,
   "metadata": {},
   "outputs": [],
   "source": [
    "# docker show id_container and name_container only\n",
    "show_simple_container= command.commandline('docker ps -a --format \"table {{.ID}}\\t{{.Names}}\"')\n",
    "show_simple_container.execute()"
   ]
  },
  {
   "cell_type": "code",
   "execution_count": null,
   "metadata": {},
   "outputs": [],
   "source": [
    "# docker help command for show documentation network\n",
    "help_network= command.commandline(\"docker network --help\")\n",
    "help_network.execute()"
   ]
  },
  {
   "cell_type": "code",
   "execution_count": null,
   "metadata": {},
   "outputs": [],
   "source": [
    "# show docker network info\n",
    "show_network= command.commandline('docker network ls')\n",
    "show_network.execute()"
   ]
  },
  {
   "cell_type": "code",
   "execution_count": null,
   "metadata": {},
   "outputs": [],
   "source": [
    "# get a docker container network detail\n",
    "network_detail=command.commandline('docker network inspect network_id')\n",
    "network_detail.execute()"
   ]
  },
  {
   "cell_type": "code",
   "execution_count": null,
   "metadata": {},
   "outputs": [],
   "source": [
    "# get a docker name container + IPv4Address only\n",
    "IP4_container=command.commandline (\"docker inspect -f '{{.Name}} - {{range .NetworkSettings.Networks}}{{.IPAddress}}{{end}}' $(docker ps -aq)\")\n",
    "IP4_container.execute()"
   ]
  },
  {
   "cell_type": "markdown",
   "metadata": {},
   "source": [
    "## Orchestrate Containers with Docker-Compose \n",
    "\n",
    "Ref: [Docker-compose documentations detail](https://docs.docker.com/compose/reference/overview/)"
   ]
  },
  {
   "cell_type": "code",
   "execution_count": null,
   "metadata": {},
   "outputs": [],
   "source": [
    "# docker-compose help commands for show documentation\n",
    "command_help_docker= command.commandline('docker-compose --help')\n",
    "command_help_docker.execute()"
   ]
  },
  {
   "cell_type": "code",
   "execution_count": null,
   "metadata": {},
   "outputs": [],
   "source": [
    "# docker-compose create and start containers\n",
    "compose_run= command.commandline('docker-compose  -f path to file docker-compose.yml up -d')\n",
    "compose_run.execute()"
   ]
  },
  {
   "cell_type": "code",
   "execution_count": null,
   "metadata": {},
   "outputs": [],
   "source": [
    "# docker-compose Stop and remove containers, networks, images, and volumes\n",
    "compose_dead= command.commandline('docker-compose -f path to file docker-compose.yml down')\n",
    "compose_dead.execute()"
   ]
  },
  {
   "cell_type": "markdown",
   "metadata": {},
   "source": [
    "## This is ways to access and operation a container\n",
    "-  Access specific container + run command\n",
    "    -  docker exec + container_id|container_name + command"
   ]
  },
  {
   "cell_type": "code",
   "execution_count": null,
   "metadata": {},
   "outputs": [],
   "source": [
    "# access and operation container \n",
    "container= command.commandline(\"docker exec container_id|container_name command\")\n",
    "container.execute()"
   ]
  }
 ],
 "metadata": {
  "language_info": {
   "codemirror_mode": {
    "name": "ipython",
    "version": 3
   },
   "file_extension": ".py",
   "mimetype": "text/x-python",
   "name": "python",
   "nbconvert_exporter": "python",
   "pygments_lexer": "ipython3",
   "version": "3.7.7-final"
  },
  "orig_nbformat": 2,
  "kernelspec": {
   "name": "python37764bitulwanconda5356d95607c04bdea693a2fc92842d08",
   "display_name": "Python 3.7.7 64-bit ('ulwan': conda)"
  }
 },
 "nbformat": 4,
 "nbformat_minor": 2
}