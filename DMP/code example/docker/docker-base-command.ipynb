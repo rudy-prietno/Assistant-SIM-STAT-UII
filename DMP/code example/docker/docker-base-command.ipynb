{
 "cells": [
  {
   "cell_type": "code",
   "execution_count": null,
   "metadata": {},
   "outputs": [],
   "source": [
    "# modules\n",
    "\n",
    "import sys\n",
    "path='path directory to commandl'\n",
    "sys.path.insert(0, path)\n",
    "\n",
    "from commandl import command"
   ]
  },
  {
   "cell_type": "markdown",
   "metadata": {},
   "source": [
    "------------------------------------------------------------------------------------------------------------------\n",
    "\n",
    "## Docker Commandline \n",
    "\n",
    "Ref: [Detail documentations docker Commandline](https://docs.docker.com/engine/reference/commandline/docker/)\n",
    "\n",
    "------------------------------------------------------------------------------------------------------------------\n",
    "\n"
   ]
  },
  {
   "cell_type": "markdown",
   "metadata": {},
   "source": [
    "------------------------------------------------------------------------------------------------------------------\n",
    "\n",
    "### The most used commands\n",
    "\n",
    "------------------------------------------------------------------------------------------------------------------"
   ]
  },
  {
   "cell_type": "code",
   "execution_count": null,
   "metadata": {},
   "outputs": [],
   "source": [
    "# docker help commands for show documentation\n",
    "command_help_docker= command.commandline('docker --help')\n",
    "command_help_docker.execute()"
   ]
  },
  {
   "cell_type": "code",
   "execution_count": null,
   "metadata": {},
   "outputs": [],
   "source": [
    "# docker command show images\n",
    "show_images= command.commandline('docker images')\n",
    "show_images.execute()"
   ]
  },
  {
   "cell_type": "code",
   "execution_count": null,
   "metadata": {},
   "outputs": [],
   "source": [
    "# docker command show containers\n",
    "show_container=  command.commandline('docker ps -a | docker container ls --all')\n",
    "show_container.execute()"
   ]
  },
  {
   "cell_type": "code",
   "execution_count": null,
   "metadata": {},
   "outputs": [],
   "source": [
    "# docker command pull\n",
    "pull_image= command.commandline('docker pull image_name:tag')\n",
    "pull_image.execute()"
   ]
  },
  {
   "cell_type": "code",
   "execution_count": null,
   "metadata": {},
   "outputs": [],
   "source": [
    "# docker command run detail info\n",
    "running_image= command.commandline('docker run --help')\n",
    "running_image.execute()"
   ]
  },
  {
   "cell_type": "code",
   "execution_count": null,
   "metadata": {},
   "outputs": [],
   "source": [
    "# docker command run \n",
    "running_image= command.commandline('docker run -d -p port_external:port_container name_image:tag/version')\n",
    "running_image.execute()"
   ]
  },
  {
   "cell_type": "markdown",
   "metadata": {},
   "source": [
    "------------------------------------------------------------------------------------------------------------------\n",
    "\n",
    "## docker pull and run images concept\n",
    "\n",
    "example 1: pull and run images database\n",
    "\n",
    "pull images command is an instruction to download images that come from the registry. then, after download complete, you can run the images using docker run command.\n",
    "\n",
    "Ref: to find [base images](https://hub.docker.com/_/postgres)\n",
    "\n",
    "------------------------------------------------------------------------------------------------------------------"
   ]
  },
  {
   "cell_type": "code",
   "execution_count": null,
   "metadata": {},
   "outputs": [],
   "source": [
    "# docker command pull images database \n",
    "pull_image_db= command.commandline('docker pull postgres:11')\n",
    "pull_image_db.execute()"
   ]
  },
  {
   "cell_type": "code",
   "execution_count": null,
   "metadata": {},
   "outputs": [],
   "source": [
    "# docker command run images database\n",
    "running_image_db= command.commandline('''            \n",
    "                                    docker run\\\n",
    "                                    -e POSTGRES_USER=postgres\\\n",
    "                                    -e POSTGRES_PASSWORD=secrect\\\n",
    "                                    -e POSTGRES_DB=simuii\\\n",
    "                                    -d\\\n",
    "                                    -p 5432:5432\\\n",
    "                                    --name dbsql-sim-1\\\n",
    "                                    postgres:11\n",
    "                            ''')\n",
    "running_image_db.execute()"
   ]
  },
  {
   "cell_type": "code",
   "execution_count": null,
   "metadata": {},
   "outputs": [],
   "source": [
    "# show command show container database\n",
    "show_container_db= command.commandline('docker container ls --all')\n",
    "show_container_db.execute()"
   ]
  },
  {
   "cell_type": "code",
   "execution_count": null,
   "metadata": {},
   "outputs": [],
   "source": [
    "# check database using postgresql connection \n",
    "\n",
    "# to simplify, you can install a database management tool like a dbeaver to see the result.\n",
    "#   - create connection with the params:\n",
    "#       - server host\n",
    "#       - port\n",
    "#       - username\n",
    "#       - database \n",
    "#       - password\n",
    "\n",
    "# you can get it with opening link https://dbeaver.io/\n",
    "\n",
    "# for this example we use connection postgresql using python\n",
    "#  postgresql connection\n",
    "\n",
    "import psycopg2\n",
    "from psycopg2.extensions import ISOLATION_LEVEL_AUTOCOMMIT\n",
    "\n",
    "try:\n",
    "    conn = psycopg2.connect(\n",
    "        host='0.0.0.0',\n",
    "        port=5432,\n",
    "        dbname='',\n",
    "        user='postgres',\n",
    "        password='secrect'\n",
    "    )\n",
    "\n",
    "    conn.set_isolation_level(ISOLATION_LEVEL_AUTOCOMMIT)\n",
    "\n",
    "    cursor = conn.cursor()\n",
    "\n",
    "    # Print PostgreSQL list databases\n",
    "    cursor.execute('SELECT datname FROM pg_database')\n",
    "    record= cursor.fetchall()\n",
    "    print(\"databases that you have - \", record,\"\\n\")\n",
    "\n",
    "except (Exception, psycopg2.Error) as error :\n",
    "    print (\"Error while connecting to PostgreSQL\", error)\n",
    "finally:\n",
    "    #closing database connection.\n",
    "        if(conn):\n",
    "            cursor.close()\n",
    "            conn.close()\n",
    "            print(\"PostgreSQL connection is closed\")"
   ]
  },
  {
   "cell_type": "markdown",
   "metadata": {},
   "source": [
    "------------------------------------------------------------------------------------------------------------------\n",
    "\n",
    "## docker build concept\n",
    "\n",
    "----------------------\n",
    "\n",
    "The build command is used to build an image from a Dockerfile, but the command has to be run in the same directory as the Dockerfile.\n",
    "\n",
    "When an image is built, the commands specified in the Dockerfile are executed. The operating system is installed​ along with all the packages required in the Docker.\n",
    "\n",
    "----------------------\n",
    "\n",
    "\n",
    "### example 2:\n",
    "\n",
    "create API's \"hello wolrd\"\n",
    "\n",
    "illustration:\n",
    "\n",
    "I have two coding files for hello world and intend to make it a docker image that I look forward to running only by setting the coding name with the environment variable.\n",
    "\n",
    "first step:\n",
    "\n",
    "- create a file application for \"hello world\" in code python\n",
    "\n",
    "second step:\n",
    "\n",
    "- create a file with the name \"Dockerfile\", the minimum standards for writing files as follows:\n",
    "\n",
    "     [Dockerfile best practice](https://docs.docker.com/develop/develop-images/dockerfile_best-practices/)\n",
    "\n",
    "          - ARG (ARG for building your Docker image)\n",
    "          - FROM (names of existing images)\n",
    "          - EXPOSE (port for container)\n",
    "          - RUN (an install or Linux / Unix command)\n",
    "          - COPY (copy file from local to your container)\n",
    "          - WORKDIR (specify where the active directory is in the container)\n",
    "          - ENV (ENV is for future running containers)\n",
    "          - CMD (enter command line to run apps)\n",
    "\n",
    "third step:\n",
    "\n",
    "- create shell script for initiate environment variabel\n",
    "     \n",
    "Ref: to find [base images](https://hub.docker.com/)\n",
    "\n",
    "------------------------------------------------------------------------------------------------------------------"
   ]
  },
  {
   "cell_type": "code",
   "execution_count": null,
   "metadata": {},
   "outputs": [],
   "source": [
    "# docker command build hello world\n",
    "build_image_hello= command.commandline('docker build \\\n",
    "                                        -t name_image:tag/version \\\n",
    "                                        -f path directory/Dockerfile .')\n",
    "build_image_hello.execute()"
   ]
  },
  {
   "cell_type": "code",
   "execution_count": null,
   "metadata": {},
   "outputs": [],
   "source": [
    "# docker command build hello world with argument\n",
    "build_image_hello= command.commandline('docker build \\\n",
    "                                        -t name_image:tag/version \\\n",
    "                                        --build-arg Argument=Version\\\n",
    "                                        -f path directory/Dockerfile .')\n",
    "build_image_hello.execute()"
   ]
  },
  {
   "cell_type": "code",
   "execution_count": null,
   "metadata": {},
   "outputs": [],
   "source": [
    "# docker command show images\n",
    "show_images_hello= command.commandline('docker images')\n",
    "show_images_hello.execute()"
   ]
  },
  {
   "cell_type": "code",
   "execution_count": null,
   "metadata": {},
   "outputs": [],
   "source": [
    "# docker command run hello world\n",
    "running_image_hello= command.commandline('''docker run \\ \n",
    "                                            --name naming_container \\ \n",
    "                                            --env env_var_name=\"main | main1\" \\\n",
    "                                            -d \\ \n",
    "                                            -p port_external:port_container \\ \n",
    "                                            name_image:tag/version\n",
    "                                         ''')\n",
    "running_image_hello.execute()"
   ]
  },
  {
   "cell_type": "code",
   "execution_count": null,
   "metadata": {},
   "outputs": [],
   "source": [
    "# docker command show containers\n",
    "show_container_hello=  command.commandline('docker ps -a | docker container ls --all')\n",
    "show_container_hello.execute()"
   ]
  },
  {
   "cell_type": "code",
   "execution_count": null,
   "metadata": {},
   "outputs": [],
   "source": [
    "# docker command show logs containers\n",
    "logs_image_hello= command.commandline ('docker logs container_name')\n",
    "logs_image_hello.execute()"
   ]
  },
  {
   "cell_type": "markdown",
   "metadata": {},
   "source": [
    "------------------------------------------------------------------------------------------------------------------\n",
    "\n",
    "## see the result\n",
    "you can see the result in address http://host:port_external/ or http://host:port_external/ \n",
    "or you can install and use tools like [postman](https://www.postman.com/) \n",
    "\n",
    "------------------------------------------------------------------------------------------------------------------\n"
   ]
  },
  {
   "cell_type": "markdown",
   "metadata": {},
   "source": [
    "------------------------------------------------------------------------------------------------------------------ \n",
    "\n",
    "## docker push into registry\n",
    "### There are several popular registry docker options:\n",
    "\n",
    "    - AWS = AWS EC2 Container Registry (ECR)\n",
    "    - GCP = Google Container Registry\n",
    "    - Docker = Docker Hub\n",
    "\n",
    "For purpose of understanding the concept of registry, we can use the docker version of registry, the [docker hub](https://hub.docker.com/)\n",
    "\n",
    "first step\n",
    "\n",
    "    - create account in docker hub\n",
    "    - create repository\n",
    "\n",
    "second step \n",
    "\n",
    "    - do image naming adjustments and sign in to the registry docker, then push the images you have \n",
    "\n",
    "------------------------------------------------------------------------------------------------------------------"
   ]
  },
  {
   "cell_type": "code",
   "execution_count": null,
   "metadata": {},
   "outputs": [],
   "source": [
    "# docker commmand naming adjustments\n",
    "naming_image_adjust= command.commandline('docker tag image_name:tag docker_id/image_name:tagname')\n",
    "naming_image_adjust.execute()\n",
    "\n",
    "# go to extention docker \n",
    "# click \"registries\" >> click \"connect registry\" >> put \"docker_id\" >> put \"docker password\"\n",
    "\n",
    "# docker push images into docker registry\n",
    "push_images= command.commandline('docker push docker_id/image_name:tagname')\n",
    "push_images.execute()"
   ]
  },
  {
   "cell_type": "code",
   "execution_count": null,
   "metadata": {},
   "outputs": [],
   "source": [
    "# docker command start, stop, remove container\n",
    "stop_container= command.commandline ('docker stop container_name')\n",
    "stop_container.execute()\n",
    "\n",
    "start_container=  command.commandline ('docker start container_name')\n",
    "start_container.execute()\n",
    "\n",
    "# before removing the container make sure that the container is in a exits position\n",
    "remove_container= command.commandline ('docker rm container_name')\n",
    "start_container.execute()"
   ]
  },
  {
   "cell_type": "code",
   "execution_count": null,
   "metadata": {},
   "outputs": [],
   "source": [
    "# docker commmand remove images\n",
    "remove_image= command.commandline ('docker rmi image_name')\n",
    "remove_image.execute()"
   ]
  },
  {
   "cell_type": "markdown",
   "metadata": {},
   "source": [
    "------------------------------------------------------------------------------------------------------------------\n",
    "\n",
    "## rare used but necessary !!!!!\n",
    "\n",
    "-  docker volume\n",
    "-  docker network\n",
    "\n",
    "------------------------------------------------------------------------------------------------------------------"
   ]
  },
  {
   "cell_type": "markdown",
   "metadata": {},
   "source": [
    "------------------------------------------------------------------------------------------------------------------\n",
    "\n",
    "### docker volume\n",
    "\n",
    "#### what:\n",
    "\n",
    "Docker Volumes are the mechanism for saving persistent data generated by and used by Docker containers.\n",
    "\n",
    "#### why:\n",
    "\n",
    "In the Docker when we make a container, the container needs to store data. Then, when we do not provide a specific location for the data is stored in the container. Thus, the data is stored in the container, and when we delete the container it will indirectly delete data too.\n",
    "\n",
    "#### when:\n",
    "\n",
    "When we work at the Enterprise level, Data should not be deleted or required to create more containers with old data and share data between containers.\n",
    "\n",
    "\n",
    "\n",
    "\n",
    "------------------------------------------------------------------------------------------------------------------"
   ]
  },
  {
   "cell_type": "code",
   "execution_count": null,
   "metadata": {},
   "outputs": [],
   "source": [
    "# docker help command for show documentation volume\n",
    "help_volume= command.commandline(\"docker volume --help\")\n",
    "help_volume.execute()"
   ]
  },
  {
   "cell_type": "code",
   "execution_count": null,
   "metadata": {},
   "outputs": [],
   "source": [
    "# In the previous step, we have run the docker container for the database without set the volume\n",
    "\n",
    "# running_image_db= command.commandline('''            \n",
    "#                                     docker run\\\n",
    "#                                     -e POSTGRES_USER=postgres\\\n",
    "#                                     -e POSTGRES_PASSWORD=secrect\\\n",
    "#                                     -e POSTGRES_DB=simuii\\\n",
    "#                                     -d\\\n",
    "#                                     -p 5432:5432\\\n",
    "#                                     --name dbsql-sim-1\\\n",
    "#                                     postgres:11\n",
    "#                             ''')\n",
    "# running_image_db.execute()\n",
    "\n",
    "# Then, check the volume information\n",
    "# use command \"docker volume ls\""
   ]
  },
  {
   "cell_type": "code",
   "execution_count": null,
   "metadata": {},
   "outputs": [],
   "source": [
    "# docker show info of volume\n",
    "show_volume= command.commandline(\"docker volume ls\")\n",
    "show_volume.execute()"
   ]
  },
  {
   "cell_type": "code",
   "execution_count": null,
   "metadata": {},
   "outputs": [],
   "source": [
    "# after showing info about volume, create new database in your postgresql\n",
    "\n",
    "import psycopg2\n",
    "from psycopg2.extensions import ISOLATION_LEVEL_AUTOCOMMIT\n",
    "\n",
    "try:\n",
    "    conn = psycopg2.connect(\n",
    "        host='0.0.0.0',\n",
    "        port=5432,\n",
    "        dbname='',\n",
    "        user='postgres',\n",
    "        password='secrect'\n",
    "    )\n",
    "\n",
    "    conn.set_isolation_level(ISOLATION_LEVEL_AUTOCOMMIT)\n",
    "\n",
    "    cursor = conn.cursor()\n",
    "\n",
    "    # create PostgreSQL new databases\n",
    "    record= cursor.execute('create database sim_statistika_uii_1;')\n",
    "    print(\"done create database\")\n",
    "\n",
    "except (Exception, psycopg2.Error) as error :\n",
    "    print (\"Error while connecting to PostgreSQL\", error)\n",
    "finally:\n",
    "    #closing database connection.\n",
    "        if(conn):\n",
    "            cursor.close()\n",
    "            conn.close()\n",
    "            print(\"PostgreSQL connection is closed\")"
   ]
  },
  {
   "cell_type": "code",
   "execution_count": null,
   "metadata": {},
   "outputs": [],
   "source": [
    "# after create new database, show the list of database\n",
    "\n",
    "#  postgresql connection\n",
    "import psycopg2\n",
    "from psycopg2.extensions import ISOLATION_LEVEL_AUTOCOMMIT\n",
    "\n",
    "try:\n",
    "    conn = psycopg2.connect(\n",
    "        host='0.0.0.0',\n",
    "        port=5432,\n",
    "        dbname='',\n",
    "        user='postgres',\n",
    "        password='secrect'\n",
    "    )\n",
    "\n",
    "    conn.set_isolation_level(ISOLATION_LEVEL_AUTOCOMMIT)\n",
    "\n",
    "    cursor = conn.cursor()\n",
    "\n",
    "    # show the list of database\n",
    "    cursor.execute('SELECT datname FROM pg_database')\n",
    "    record= cursor.fetchall()\n",
    "    print(\"You are connected to - \", record,\"\\n\")\n",
    "\n",
    "except (Exception, psycopg2.Error) as error :\n",
    "    print (\"Error while connecting to PostgreSQL\", error)\n",
    "finally:\n",
    "    #closing database connection.\n",
    "        if(conn):\n",
    "            cursor.close()\n",
    "            conn.close()\n",
    "            print(\"PostgreSQL connection is closed\")"
   ]
  },
  {
   "cell_type": "code",
   "execution_count": null,
   "metadata": {},
   "outputs": [],
   "source": [
    "# then, stop and remove container database\n",
    "# docker stop container\n",
    "stop_container= command.commandline(\"docker stop container_name\")\n",
    "stop_container.execute()"
   ]
  },
  {
   "cell_type": "code",
   "execution_count": null,
   "metadata": {},
   "outputs": [],
   "source": [
    "# after stop container, do remove container\n",
    "rm_container= command.commandline(\"docker rm container_name\")\n",
    "rm_container.execute()"
   ]
  },
  {
   "cell_type": "code",
   "execution_count": null,
   "metadata": {},
   "outputs": [],
   "source": [
    "# after remove container, run again the docker container for the database without set the volume\n",
    "\n",
    "running_image_db= command.commandline('''            \n",
    "                                    docker run\\\n",
    "                                    -e POSTGRES_USER=postgres\\\n",
    "                                    -e POSTGRES_PASSWORD=secrect\\\n",
    "                                    -e POSTGRES_DB=simuii\\\n",
    "                                    -d\\\n",
    "                                    -p 5432:5432\\\n",
    "                                    --name dbsql-sim-1\\\n",
    "                                    postgres:11\n",
    "                            ''')\n",
    "running_image_db.execute()\n",
    "\n",
    "# Then, check the volume information and show the list of database\n",
    "# Then, pay attention to the effects that occur"
   ]
  },
  {
   "cell_type": "code",
   "execution_count": null,
   "metadata": {},
   "outputs": [],
   "source": [
    "# Then, check the volume information\n",
    "# use command \"docker volume ls\"\n",
    "\n",
    "# docker show info of volume\n",
    "show_volume= command.commandline(\"docker volume ls\")\n",
    "show_volume.execute()"
   ]
  },
  {
   "cell_type": "code",
   "execution_count": null,
   "metadata": {},
   "outputs": [],
   "source": [
    "#  show the list of database\n",
    "import psycopg2\n",
    "from psycopg2.extensions import ISOLATION_LEVEL_AUTOCOMMIT\n",
    "\n",
    "try:\n",
    "    conn = psycopg2.connect(\n",
    "        host='0.0.0.0',\n",
    "        port=5432,\n",
    "        dbname='',\n",
    "        user='postgres',\n",
    "        password='secrect'\n",
    "    )\n",
    "\n",
    "    conn.set_isolation_level(ISOLATION_LEVEL_AUTOCOMMIT)\n",
    "\n",
    "    cursor = conn.cursor()\n",
    "\n",
    "    # show the list of database\n",
    "    cursor.execute('SELECT datname FROM pg_database')\n",
    "    record= cursor.fetchall()\n",
    "    print(\"You are connected to - \", record,\"\\n\")\n",
    "\n",
    "except (Exception, psycopg2.Error) as error :\n",
    "    print (\"Error while connecting to PostgreSQL\", error)\n",
    "finally:\n",
    "    #closing database connection.\n",
    "        if(conn):\n",
    "            cursor.close()\n",
    "            conn.close()\n",
    "            print(\"PostgreSQL connection is closed\")"
   ]
  },
  {
   "cell_type": "markdown",
   "metadata": {},
   "source": [
    "------------------------------------------------------------------------------------------------------------------\n",
    "### running container without set a volume\n",
    "\n",
    "#### result:\n",
    "\n",
    "At first we have created a new database named \"sim_statistika_uii_1\". After we delete the container and run it again, we don't find the database \"sim_statistika_uii_1\".\n",
    "\n",
    "#### why:\n",
    "\n",
    "because we did not make a volume docker to store data. Thus, the docker automatically creates the volume and stores it in the container and when we delete the container, the data is also deleted.\n",
    "\n",
    "#### problem:\n",
    "\n",
    "the statement in \"why\", can be a problem when we are at the production level because the data that has been collected will be lost.\n",
    "\n",
    "#### handling:\n",
    "\n",
    "create docker volume to save data\n",
    "\n",
    "------------------------------------------------------------------------------------------------------------------\n"
   ]
  },
  {
   "cell_type": "code",
   "execution_count": null,
   "metadata": {},
   "outputs": [],
   "source": [
    "# example create volume\n",
    "# docker command run images database + create volume\n",
    "docker_volume_db= command.commandline('''            \n",
    "                                    docker run\\\n",
    "                                    -e POSTGRES_USER=postgres\\\n",
    "                                    -e POSTGRES_PASSWORD=secrect\\\n",
    "                                    -e POSTGRES_DB=simuii\\\n",
    "                                    -d\\\n",
    "                                    -p 5432:5432\\\n",
    "                                    -v sim_dbdata:/var/lib/postgresql/data\\\n",
    "                                    --name dbsql-sim-1\\\n",
    "                                    postgres:11\n",
    "                            ''')\n",
    "docker_volume_db.execute()"
   ]
  },
  {
   "cell_type": "code",
   "execution_count": null,
   "metadata": {},
   "outputs": [],
   "source": [
    "# docker show info of volume\n",
    "show_volume= command.commandline(\"docker volume ls\")\n",
    "show_volume.execute()"
   ]
  },
  {
   "cell_type": "code",
   "execution_count": null,
   "metadata": {},
   "outputs": [],
   "source": [
    "# after showing info about volume, create new database in your postgresql\n",
    "\n",
    "import psycopg2\n",
    "from psycopg2.extensions import ISOLATION_LEVEL_AUTOCOMMIT\n",
    "\n",
    "try:\n",
    "    conn = psycopg2.connect(\n",
    "        host='0.0.0.0',\n",
    "        port=5432,\n",
    "        dbname='',\n",
    "        user='postgres',\n",
    "        password='secrect'\n",
    "    )\n",
    "\n",
    "    conn.set_isolation_level(ISOLATION_LEVEL_AUTOCOMMIT)\n",
    "\n",
    "    cursor = conn.cursor()\n",
    "\n",
    "    # create PostgreSQL new databases\n",
    "    record= cursor.execute('create database sim_statistika_uii_1;')\n",
    "    print(\"done create database\")\n",
    "\n",
    "except (Exception, psycopg2.Error) as error :\n",
    "    print (\"Error while connecting to PostgreSQL\", error)\n",
    "finally:\n",
    "    #closing database connection.\n",
    "        if(conn):\n",
    "            cursor.close()\n",
    "            conn.close()\n",
    "            print(\"PostgreSQL connection is closed\")"
   ]
  },
  {
   "cell_type": "code",
   "execution_count": null,
   "metadata": {},
   "outputs": [],
   "source": [
    "#  show the list of database\n",
    "import psycopg2\n",
    "from psycopg2.extensions import ISOLATION_LEVEL_AUTOCOMMIT\n",
    "\n",
    "try:\n",
    "    conn = psycopg2.connect(\n",
    "        host='0.0.0.0',\n",
    "        port=5432,\n",
    "        dbname='',\n",
    "        user='postgres',\n",
    "        password='secrect'\n",
    "    )\n",
    "\n",
    "    conn.set_isolation_level(ISOLATION_LEVEL_AUTOCOMMIT)\n",
    "\n",
    "    cursor = conn.cursor()\n",
    "\n",
    "    # show the list of database\n",
    "    cursor.execute('SELECT datname FROM pg_database')\n",
    "    record= cursor.fetchall()\n",
    "    print(\"You are connected to - \", record,\"\\n\")\n",
    "\n",
    "except (Exception, psycopg2.Error) as error :\n",
    "    print (\"Error while connecting to PostgreSQL\", error)\n",
    "finally:\n",
    "    #closing database connection.\n",
    "        if(conn):\n",
    "            cursor.close()\n",
    "            conn.close()\n",
    "            print(\"PostgreSQL connection is closed\")"
   ]
  },
  {
   "cell_type": "code",
   "execution_count": null,
   "metadata": {},
   "outputs": [],
   "source": [
    "# then, stop and remove container database\n",
    "# docker stop container\n",
    "stop_container= command.commandline(\"docker stop container_name\")\n",
    "stop_container.execute()\n",
    "\n",
    "# after stop container, do remove container\n",
    "rm_container= command.commandline(\"docker rm container_name\")\n",
    "rm_container.execute()"
   ]
  },
  {
   "cell_type": "code",
   "execution_count": null,
   "metadata": {},
   "outputs": [],
   "source": [
    "# run again images database + create volume\n",
    "docker_volume_db= command.commandline('''            \n",
    "                                    docker run\\\n",
    "                                    -e POSTGRES_USER=postgres\\\n",
    "                                    -e POSTGRES_PASSWORD=secrect\\\n",
    "                                    -e POSTGRES_DB=simuii\\\n",
    "                                    -d\\\n",
    "                                    -p 5432:5432\\\n",
    "                                    -v sim_dbdata:/var/lib/postgresql/data\\\n",
    "                                    --name dbsql-sim-1\\\n",
    "                                    postgres:11\n",
    "                            ''')\n",
    "docker_volume_db.execute()"
   ]
  },
  {
   "cell_type": "code",
   "execution_count": null,
   "metadata": {},
   "outputs": [],
   "source": [
    "#  show the list of database\n",
    "import psycopg2\n",
    "from psycopg2.extensions import ISOLATION_LEVEL_AUTOCOMMIT\n",
    "\n",
    "try:\n",
    "    conn = psycopg2.connect(\n",
    "        host='0.0.0.0',\n",
    "        port=5432,\n",
    "        dbname='',\n",
    "        user='postgres',\n",
    "        password='secrect'\n",
    "    )\n",
    "\n",
    "    conn.set_isolation_level(ISOLATION_LEVEL_AUTOCOMMIT)\n",
    "\n",
    "    cursor = conn.cursor()\n",
    "\n",
    "    # show the list of database\n",
    "    cursor.execute('SELECT datname FROM pg_database')\n",
    "    record= cursor.fetchall()\n",
    "    print(\"You are connected to - \", record,\"\\n\")\n",
    "\n",
    "except (Exception, psycopg2.Error) as error :\n",
    "    print (\"Error while connecting to PostgreSQL\", error)\n",
    "finally:\n",
    "    #closing database connection.\n",
    "        if(conn):\n",
    "            cursor.close()\n",
    "            conn.close()\n",
    "            print(\"PostgreSQL connection is closed\")"
   ]
  },
  {
   "cell_type": "markdown",
   "metadata": {},
   "source": [
    "------------------------------------------------------------------------------------------------------------------\n",
    "### running container with set a volume\n",
    "\n",
    "#### result:\n",
    "\n",
    "At previous we have created a new database named \"sim_statistika_uii_1\". After we delete the container and run it again, we still find the database \"sim_statistika_uii_1\".\n",
    "\n",
    "#### next:\n",
    "\n",
    "understand that \"docker volume\" can do data sharing. run again images database + create volume with change port to \"5433\" and name container to \"dbsql-sim-2\" after that show the list of database.\n",
    "\n",
    "in the result, you can show the same list of database between \"dbsql-sim-1\" and \"dbsql-sim-2\".\n",
    "\n",
    "------------------------------------------------------------------------------------------------------------------"
   ]
  },
  {
   "cell_type": "code",
   "execution_count": null,
   "metadata": {},
   "outputs": [],
   "source": [
    "# to understand docker volume concept sharing data\n",
    "# run again images database + create volume\n",
    "# change port to \"5433\" and name container to \"dbsql-sim-2\" after that show the list of database\n",
    "docker_volume_db_1= command.commandline('''            \n",
    "                                    docker run\\\n",
    "                                    -e POSTGRES_USER=postgres\\\n",
    "                                    -e POSTGRES_PASSWORD=secrect\\\n",
    "                                    -e POSTGRES_DB=simuii\\\n",
    "                                    -d\\\n",
    "                                    -p 5433:5432\\\n",
    "                                    -v sim_dbdata:/var/lib/postgresql/data\\\n",
    "                                    --name dbsql-sim-2\\\n",
    "                                    postgres:11\n",
    "                            ''')\n",
    "docker_volume_db_1.execute()"
   ]
  },
  {
   "cell_type": "code",
   "execution_count": null,
   "metadata": {},
   "outputs": [],
   "source": [
    "#  show the list of database\n",
    "import psycopg2\n",
    "from psycopg2.extensions import ISOLATION_LEVEL_AUTOCOMMIT\n",
    "\n",
    "try:\n",
    "    conn = psycopg2.connect(\n",
    "        host='0.0.0.0',\n",
    "        port=5433,\n",
    "        dbname='',\n",
    "        user='postgres',\n",
    "        password='secrect'\n",
    "    )\n",
    "\n",
    "    conn.set_isolation_level(ISOLATION_LEVEL_AUTOCOMMIT)\n",
    "\n",
    "    cursor = conn.cursor()\n",
    "\n",
    "    # show the list of database\n",
    "    cursor.execute('SELECT datname FROM pg_database')\n",
    "    record= cursor.fetchall()\n",
    "    print(\"You are connected to - \", record,\"\\n\")\n",
    "\n",
    "except (Exception, psycopg2.Error) as error :\n",
    "    print (\"Error while connecting to PostgreSQL\", error)\n",
    "finally:\n",
    "    #closing database connection.\n",
    "        if(conn):\n",
    "            cursor.close()\n",
    "            conn.close()\n",
    "            print(\"PostgreSQL connection is closed\")"
   ]
  },
  {
   "cell_type": "markdown",
   "metadata": {},
   "source": [
    "------------------------------------------------------------------------------------------------------------------\n",
    "\n",
    "### docker network\n",
    "\n",
    "#### what:\n",
    "\n",
    "docker network is media for Docker containers to communicate could each other with the outside world.\n",
    "\n",
    "\n",
    "#### why:\n",
    "\n",
    "example, we build an application that runs on docker containers. The application needs two containers thus needs to communicate one to other containers. The communication between the two containers must have the so-called media, the media for docker containers communication so-called \"Network\".\n",
    "\n",
    "#### when:\n",
    "\n",
    "when a container needs a way to communicate with each other in various situations to take the necessary action.\n",
    "\n",
    "------------------------------------------------------------------------------------------------------------------"
   ]
  },
  {
   "cell_type": "code",
   "execution_count": null,
   "metadata": {},
   "outputs": [],
   "source": [
    "# docker help command for show documentation network\n",
    "help_network= command.commandline(\"docker network --help\")\n",
    "help_network.execute()"
   ]
  },
  {
   "cell_type": "code",
   "execution_count": null,
   "metadata": {},
   "outputs": [],
   "source": [
    "# show docker network info\n",
    "show_network= command.commandline('docker network ls')\n",
    "show_network.execute()"
   ]
  },
  {
   "cell_type": "code",
   "execution_count": null,
   "metadata": {},
   "outputs": [],
   "source": [
    "# get a docker container network detail\n",
    "network_detail=command.commandline('docker network inspect network_id')\n",
    "network_detail.execute()"
   ]
  },
  {
   "cell_type": "code",
   "execution_count": null,
   "metadata": {},
   "outputs": [],
   "source": [
    "# get a docker name container + IPv4Address only\n",
    "IP4_container=command.commandline (\"\"\"docker inspect\\\n",
    "                                      -f '{{.Name}} - {{range .NetworkSettings.Networks}}{{.IPAddress}}{{end}}'\\ \n",
    "                                      $(docker ps -aq)\"\"\")\n",
    "IP4_container.execute()"
   ]
  },
  {
   "cell_type": "code",
   "execution_count": null,
   "metadata": {},
   "outputs": [],
   "source": [
    "# example"
   ]
  },
  {
   "cell_type": "markdown",
   "metadata": {},
   "source": [
    "------------------------------------------------------------------------------------------------------------------\n",
    "\n",
    "## Orchestrate Containers with Docker-Compose \n",
    "\n",
    "Ref: [Docker-compose documentations detail](https://docs.docker.com/compose/reference/overview/)\n",
    "\n",
    "------------------------------------------------------------------------------------------------------------------"
   ]
  },
  {
   "cell_type": "code",
   "execution_count": null,
   "metadata": {},
   "outputs": [],
   "source": [
    "# docker-compose help commands for show documentation\n",
    "command_help_docker= command.commandline('docker-compose --help')\n",
    "command_help_docker.execute()"
   ]
  },
  {
   "cell_type": "code",
   "execution_count": null,
   "metadata": {},
   "outputs": [],
   "source": [
    "# docker-compose create and start containers\n",
    "compose_run= command.commandline('docker-compose  -f path to file docker-compose.yml up -d')\n",
    "compose_run.execute()"
   ]
  },
  {
   "cell_type": "code",
   "execution_count": null,
   "metadata": {},
   "outputs": [],
   "source": [
    "# docker show id_container, status, and name_container only\n",
    "show_simple_container= command.commandline('docker ps -a --format \"table {{.ID}}\\t{{.Status}}\\t{{.Names}}\"')\n",
    "show_simple_container.execute()"
   ]
  },
  {
   "cell_type": "code",
   "execution_count": null,
   "metadata": {},
   "outputs": [],
   "source": [
    "# docker-compose Stop and remove containers, networks, images, and volumes\n",
    "compose_dead= command.commandline('docker-compose -f path to file docker-compose.yml down')\n",
    "compose_dead.execute()"
   ]
  },
  {
   "cell_type": "markdown",
   "metadata": {},
   "source": [
    "------------------------------------------------------------------------------------------------------------------\n",
    "\n",
    "## example docker-compose\n",
    "\n",
    "------------------------------------------------------------------------------------------------------------------"
   ]
  },
  {
   "cell_type": "code",
   "execution_count": null,
   "metadata": {},
   "outputs": [],
   "source": []
  },
  {
   "cell_type": "code",
   "execution_count": null,
   "metadata": {},
   "outputs": [],
   "source": []
  },
  {
   "cell_type": "markdown",
   "metadata": {},
   "source": [
    "------------------------------------------------------------------------------------------------------------------\n",
    "\n",
    "## This is ways to access and operation a container\n",
    "-  Access specific container + run command\n",
    "    -  docker exec + container_id|container_name + command\n",
    "\n",
    "------------------------------------------------------------------------------------------------------------------"
   ]
  },
  {
   "cell_type": "code",
   "execution_count": null,
   "metadata": {},
   "outputs": [],
   "source": [
    "# access and operation container \n",
    "container= command.commandline(\"docker exec container_id|container_name command\")\n",
    "container.execute()"
   ]
  }
 ],
 "metadata": {
  "language_info": {
   "codemirror_mode": {
    "name": "ipython",
    "version": 3
   },
   "file_extension": ".py",
   "mimetype": "text/x-python",
   "name": "python",
   "nbconvert_exporter": "python",
   "pygments_lexer": "ipython3",
   "version": "3.7.7-final"
  },
  "orig_nbformat": 2,
  "kernelspec": {
   "name": "python37764bitulwanconda5356d95607c04bdea693a2fc92842d08",
   "display_name": "Python 3.7.7 64-bit ('ulwan': conda)"
  }
 },
 "nbformat": 4,
 "nbformat_minor": 2
}