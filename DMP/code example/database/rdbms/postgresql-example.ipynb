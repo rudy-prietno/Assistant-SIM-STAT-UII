{
 "cells": [
  {
   "cell_type": "code",
   "execution_count": null,
   "metadata": {},
   "outputs": [],
   "source": [
    "# modules\n",
    "\n",
    "import sys\n",
    "path='/home/rudy/DE/Assistant-SIM-STAT-UII/DMP'\n",
    "sys.path.insert(0, path)\n",
    "\n",
    "from commandl import command\n",
    "from commandl import operationdb"
   ]
  },
  {
   "cell_type": "code",
   "execution_count": null,
   "metadata": {
    "tags": []
   },
   "outputs": [],
   "source": [
    "# docker run postgresql\n",
    "run_postgresql= command.commandline('''            \n",
    "                                    docker run\\\n",
    "                                    -e POSTGRES_USER=postgres\\\n",
    "                                    -e POSTGRES_PASSWORD=secrect\\\n",
    "                                    -e POSTGRES_DB=simuii\\\n",
    "                                    -d\\\n",
    "                                    -p 5432:5432\\\n",
    "                                    -v sim_dbdata:/var/lib/postgresql/data\\\n",
    "                                    --name dbsql-sim-1\\\n",
    "                                    postgres:11\n",
    "                            ''')\n",
    "run_postgresql.execute()"
   ]
  },
  {
   "cell_type": "markdown",
   "metadata": {},
   "source": [
    "### behaviors modules operationdb\n",
    "\n",
    "operationdb have 5 params to set connection postgresql.\n",
    "if you don't put value for host and port, operationdb automatically generates host=\"0.0.0.0\" and port=\"5432\". \n",
    "Then for others must be filled."
   ]
  },
  {
   "cell_type": "code",
   "execution_count": null,
   "metadata": {
    "tags": []
   },
   "outputs": [],
   "source": [
    "# setup params for connection database\n",
    "learn= operationdb.steward(host='0.0.0.0'\n",
    "                           port=5432,\n",
    "                           user='postgres', \n",
    "                           password='secrect',\n",
    "                           dbname=''\n",
    "                    )\n",
    "\n",
    "# call the connection database\n",
    "learn.connectiondb()\n",
    "\n",
    "# shows all database\n",
    "learn.alldb()\n",
    "\n",
    "# create new database\n",
    "learn.create_db(dbname='newdb')\n",
    "\n",
    "# remove database\n",
    "learn.remove_db(dbname='newdb')\n",
    "\n"
   ]
  }
 ],
 "metadata": {
  "language_info": {
   "codemirror_mode": {
    "name": "ipython",
    "version": 3
   },
   "file_extension": ".py",
   "mimetype": "text/x-python",
   "name": "python",
   "nbconvert_exporter": "python",
   "pygments_lexer": "ipython3",
   "version": "3.7.7-final"
  },
  "orig_nbformat": 2,
  "kernelspec": {
   "name": "python37764bitulwanconda5356d95607c04bdea693a2fc92842d08",
   "display_name": "Python 3.7.7 64-bit ('ulwan': conda)"
  }
 },
 "nbformat": 4,
 "nbformat_minor": 2
}