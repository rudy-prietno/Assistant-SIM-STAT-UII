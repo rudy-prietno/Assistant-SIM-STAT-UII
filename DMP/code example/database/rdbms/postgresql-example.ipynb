{
 "cells": [
  {
   "cell_type": "code",
   "execution_count": 1,
   "metadata": {},
   "outputs": [],
   "source": [
    "# modules\n",
    "\n",
    "import sys\n",
    "path='/home/rudy/DE/Assistant-SIM-STAT-UII/DMP'\n",
    "sys.path.insert(0, path)\n",
    "\n",
    "from commandl import command\n",
    "from commandl import operationdb"
   ]
  },
  {
   "cell_type": "code",
   "execution_count": null,
   "metadata": {
    "tags": []
   },
   "outputs": [],
   "source": [
    "# docker run postgresql\n",
    "run_postgresql= command.commandline('''            \n",
    "                                    docker run\\\n",
    "                                    -e POSTGRES_USER=postgres\\\n",
    "                                    -e POSTGRES_PASSWORD=secrect\\\n",
    "                                    -e POSTGRES_DB=simuii\\\n",
    "                                    -d\\\n",
    "                                    -p 5432:5432\\\n",
    "                                    -v sim_dbdata:/var/lib/postgresql/data\\\n",
    "                                    --name dbsql-sim-1\\\n",
    "                                    postgres:11\n",
    "                            ''')\n",
    "run_postgresql.execute()"
   ]
  },
  {
   "cell_type": "markdown",
   "metadata": {},
   "source": [
    "### behaviors modules operationdb\n",
    "\n",
    "operationdb have 5 params to set connection postgresql.\n",
    "if you don't put value for host and port, operationdb automatically generates host=\"0.0.0.0\" and port=\"5432\". \n",
    "Then for others must be filled."
   ]
  },
  {
   "cell_type": "code",
   "execution_count": 3,
   "metadata": {
    "tags": []
   },
   "outputs": [
    {
     "output_type": "stream",
     "name": "stdout",
     "text": "insert data into table 'cars'\n"
    }
   ],
   "source": [
    "# setup params for connection database\n",
    "learn= operationdb.steward(host='0.0.0.0',\n",
    "                           port=5432,\n",
    "                           user='postgres', \n",
    "                           password='secrect',\n",
    "                           dbname='postgres'\n",
    "                    )\n",
    "\n",
    "# call the connection database\n",
    "learn.connectiondb()\n",
    "\n",
    "# shows all database\n",
    "learn.alldb()\n",
    "\n",
    "# create new database\n",
    "learn.create_db(dbname='newdb')\n",
    "\n",
    "# remove database\n",
    "learn.remove_db(dbname='newdb')\n",
    "\n",
    "# create table\n",
    "learn.cr_table( tabname=\"cars\", \n",
    "                colname=''' id SERIAL PRIMARY KEY, \n",
    "                            name VARCHAR(255) NOT NULL,\n",
    "                            price INT\n",
    "                        '''\n",
    "        )\n",
    "\n",
    "# create multiple table\n",
    "script = ({ \"Description\": \"Create galleries table \",\n",
    "            \"SQL\": \n",
    "                \"\"\"create table \n",
    "                    galleries(\n",
    "                        galleryid serial primary key, \n",
    "                        name varchar(64) not null, \n",
    "                        description varchar(256)\n",
    "                        )\n",
    "                \"\"\"\n",
    "        },\n",
    "          { \"Description\": \"Create photos table \",\n",
    "            \"SQL\": \n",
    "                \"\"\"create table \n",
    "                    photos(\n",
    "                        photoid serial primary key, \n",
    "                        galleryid smallint, \n",
    "                        title varchar(64) not null, \n",
    "                        description varchar(256) not null, \n",
    "                        photographer varchar(64) not null, \n",
    "                        datetaken date\n",
    "                    )\n",
    "                \"\"\"\n",
    "      })\n",
    "\n",
    "learn.multicr_table(script)\n",
    "\n",
    "# show all tables in active database\n",
    "learn.show_tables()\n",
    "\n",
    "# show info from specific table in active database\n",
    "learn.det_table(tabname='galleries')\n",
    "\n",
    "# insert data into table\n",
    "cars = [\n",
    "    (1, 'Audi', 52642),\n",
    "    (2, 'Mercedes', 57127),\n",
    "    (3, 'Skoda', 9000),\n",
    "    (4, 'Volvo', 29000),\n",
    "    (5, 'Bentley', 350000),\n",
    "    (6, 'Citroen', 21000),\n",
    "    (7, 'Hummer', 41400),\n",
    "    (8, 'Volkswagen', 21600)\n",
    "]\n",
    "\n",
    "learn.insert_rows(tabname='cars', \n",
    "                  colname='id, name, price', \n",
    "                  rows=cars\n",
    "            )\n",
    "\n",
    "# load data from csv file into datbase\n",
    "learn.load_csv( file_path='path file/test.csv',\n",
    "                tabname='table name'\n",
    "            )"
   ]
  }
 ],
 "metadata": {
  "language_info": {
   "codemirror_mode": {
    "name": "ipython",
    "version": 3
   },
   "file_extension": ".py",
   "mimetype": "text/x-python",
   "name": "python",
   "nbconvert_exporter": "python",
   "pygments_lexer": "ipython3",
   "version": "3.7.7-final"
  },
  "orig_nbformat": 2,
  "kernelspec": {
   "name": "python37764bitulwanconda5356d95607c04bdea693a2fc92842d08",
   "display_name": "Python 3.7.7 64-bit ('ulwan': conda)"
  }
 },
 "nbformat": 4,
 "nbformat_minor": 2
}