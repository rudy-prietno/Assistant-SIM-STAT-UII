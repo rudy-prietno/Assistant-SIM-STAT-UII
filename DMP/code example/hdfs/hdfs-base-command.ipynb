{
 "cells": [
  {
   "cell_type": "code",
   "execution_count": null,
   "metadata": {},
   "outputs": [],
   "source": [
    "# modules\n",
    "\n",
    "import sys\n",
    "path='path directory to commandl'\n",
    "sys.path.insert(0, path)\n",
    "\n",
    "from commandl import command"
   ]
  },
  {
   "cell_type": "markdown",
   "metadata": {},
   "source": [
    "## This is ways to access and operation a container\n",
    "-  Access specific container + run command linux or command hadoop\n",
    "    -  docker exec + container_id|container_name + command linux or command hadoop"
   ]
  },
  {
   "cell_type": "code",
   "execution_count": null,
   "metadata": {},
   "outputs": [],
   "source": [
    "# docker show id_container and name_container only\n",
    "show_simple_con= command.commandline('docker ps -a --format \"table {{.ID}}\\t{{.Names}}\"')\n",
    "show_simple_con.execute()"
   ]
  },
  {
   "cell_type": "code",
   "execution_count": null,
   "metadata": {},
   "outputs": [],
   "source": [
    "# get a docker name container + IPv4Address only\n",
    "IP4_container=command.commandline (\"docker inspect -f '{{.Name}} - {{range .NetworkSettings.Networks}}{{.IPAddress}}{{end}}' $(docker ps -aq)\")\n",
    "IP4_container.execute()"
   ]
  },
  {
   "cell_type": "code",
   "execution_count": null,
   "metadata": {},
   "outputs": [],
   "source": [
    "# command linux \"show file\"\n",
    "container_file= command.commandline(\"docker exec container_id|container_name ls -l /path file\")\n",
    "container_file.execute()"
   ]
  },
  {
   "cell_type": "code",
   "execution_count": null,
   "metadata": {},
   "outputs": [],
   "source": [
    "# hadoop command \"show file\"\n",
    "hdfs_file=command.commandline(\"docker exec container_id|container_name hdfs dfs -ls /\")\n",
    "hdfs_file.execute()"
   ]
  },
  {
   "cell_type": "code",
   "execution_count": null,
   "metadata": {},
   "outputs": [],
   "source": [
    "# hadoop command \"make directory\"\n",
    "hdfs_mkdri= command.commandline(\"docker exec container_id|container_name hdfs dfs -mkdir /path file\")\n",
    "hdfs_mkdri.execute()"
   ]
  },
  {
   "cell_type": "code",
   "execution_count": null,
   "metadata": {},
   "outputs": [],
   "source": [
    "# hadoop command \"remove directory\"\n",
    "hdfs_rmdir= command.commandline(\"docker exec container_id|container_name hdfs dfs -rm -R /path file\")\n",
    "hdfs_rmdir.execute()"
   ]
  },
  {
   "cell_type": "code",
   "execution_count": null,
   "metadata": {},
   "outputs": [],
   "source": [
    "# hadoop command \"create file\" with zero length and \"create file\" text format\n",
    "hdfs_create= command.commandline(\"docker exec container_id|container_name hdfs dfs -touchz /path file\")\n",
    "hdfs_create= command.commandline(\"docker exec container_id|container_name hdfs dfs -text /path file\")\n",
    "hdfs_create.execute()"
   ]
  },
  {
   "cell_type": "code",
   "execution_count": null,
   "metadata": {},
   "outputs": [],
   "source": [
    "# hadoop command \"Appends the content\" of a local file test1 to a hdfs file test2\n",
    "hdfs_append = command.commandline(\"docker exec container_id|container_name hdfs dfs -appendToFile /path file origin /path file destination\")\n",
    "hdfs_append.execute()"
   ]
  },
  {
   "cell_type": "code",
   "execution_count": null,
   "metadata": {},
   "outputs": [],
   "source": [
    "# hadoop command \n",
    "# \"read file\" show all row, \n",
    "# \"read file\" show tail row, \n",
    "# \"read file\" show head row, \n",
    "# \"read file\" with random sample for fast respone data\n",
    "\n",
    "hdfs_read= command.commandline(\"docker exec container_id|container_name hdfs dfs -cat /path file\")\n",
    "hdfs_read= command.commandline(\"docker exec container_id|container_name hdfs dfs -cat /path file | tail -n\")\n",
    "hdfs_read= command.commandline(\"docker exec container_id|container_name hdfs dfs -cat /path file | head -n\")\n",
    "hdfs_read= command.commandline(\"docker exec container_id|container_name hdfs dfs -cat /path file | shuf -n n\")\n",
    "hdfs_read.execute()"
   ]
  },
  {
   "cell_type": "code",
   "execution_count": null,
   "metadata": {},
   "outputs": [],
   "source": [
    "# hadoop command \"set file number of replication\"\n",
    "hdfs_rep= command.commandline(\"docker exec container_id|container_name hadoop dfs -setrep -w 'number of replication' /path file\")\n",
    "hdfs_rep.execute()"
   ]
  },
  {
   "cell_type": "code",
   "execution_count": null,
   "metadata": {},
   "outputs": [],
   "source": [
    "# hadoop command \"remove file\" with move into trash\n",
    "hdfs_rm= command.commandline(\"docker exec container_id|container_name hdfs dfs -rm -r /path file\")\n",
    "hdfs_rm.execute()"
   ]
  },
  {
   "cell_type": "code",
   "execution_count": null,
   "metadata": {},
   "outputs": [],
   "source": [
    "# hadoop command \"recorvery file\"\n",
    "recorvery_file= command.commandline(\"docker exec container_id|container_name hdfs dfs -mv /path file trash /path file destination\")\n",
    "recorvery_file.execute()"
   ]
  },
  {
   "cell_type": "code",
   "execution_count": null,
   "metadata": {},
   "outputs": [],
   "source": [
    "# hadoop command \"remove file\" without move into trash\n",
    "hdfs_rm_trash= command.commandline(\"docker exec container_id|container_name hdfs dfs -rm -r -skipTrash /path file\")\n",
    "hdfs_rm_trash.execute()"
   ]
  },
  {
   "cell_type": "code",
   "execution_count": null,
   "metadata": {},
   "outputs": [],
   "source": [
    "# hadoop command \"empty the trash\"\n",
    "clear_trash=command.commandline(\"docker exec container_id|container_name hdfs dfs -expunge\")\n",
    "clear_trash.execute()"
   ]
  },
  {
   "cell_type": "code",
   "execution_count": null,
   "metadata": {},
   "outputs": [],
   "source": [
    "# hadoop command \"upload file\" from local computer into hadoop\n",
    "# triks:\n",
    "#   1. upload file from local computer into local container\n",
    "#   2. upload file from local container into hadoop\n",
    "\n",
    "\n",
    "#   1. upload file from local computer into local container\n",
    "upload_1 = command.commandline(\"docker cp /path file container_id:/path file\")\n",
    "upload_1.execute()\n",
    "\n",
    "\n",
    "#   2. upload file from local container into hadoop\n",
    "upload_2_1 = command.commandline(\"docker exec container_id|container_name hdfs dfs -copyFromLocal /path origin file /path destination file\")\n",
    "upload_2_1.execute()\n",
    "\n",
    "upload_2_2 = command.commandline(\"docker exec container_id|container_name hdfs dfs -moveFromLocal /path origin file /path destination file\")\n",
    "upload_2_2.execute()"
   ]
  },
  {
   "cell_type": "code",
   "execution_count": null,
   "metadata": {},
   "outputs": [],
   "source": [
    "# hadoop command \"download file\" from hadoop into local computer\n",
    "# triks:\n",
    "#   1. download file from hadoop into local container\n",
    "#   2. download file from local container into local computer\n",
    "\n",
    "\n",
    "#   1. download file from hadoop into local container\n",
    "download_1 = command.commandline(\"docker exec container_id|container_name hdfs dfs -copyToLocal /path origin file /path destination file\")\n",
    "download_1.execute()\n",
    "\n",
    "\n",
    "#   2. download file from local container into local computer\n",
    "download_2 = command.commandline(\"docker cp container_id:/path file /path file\")\n",
    "download_2.execute()"
   ]
  },
  {
   "cell_type": "code",
   "execution_count": null,
   "metadata": {},
   "outputs": [],
   "source": [
    "# hadoop command \"copy file\" in between folder in hadoop\n",
    "hdfs_copy= command.commandline(\"docker exec container_id|container_name hdfs dfs -cp -p /path origin file /path destination file\")\n",
    "hdfs_copy.execute()"
   ]
  },
  {
   "cell_type": "code",
   "execution_count": null,
   "metadata": {},
   "outputs": [],
   "source": [
    "# hadoop command \"shows the capacity, free and used space of the filesystem\". -h parameter Formats the sizes of files in a human-readable fashion.\n",
    "capacity= command.commandline(\"docker exec container_id|container_name hdfs dfs -df -h path file\")\n",
    "capacity.execute()"
   ]
  },
  {
   "cell_type": "code",
   "execution_count": null,
   "metadata": {},
   "outputs": [],
   "source": [
    "# hadoop command \"show the amount of space, in bytes, used by the files that match the specified file pattern\".\n",
    "amount_file= command.commandline(\"docker exec container_id|container_name hdfs dfs -du -h path file\")\n",
    "amount_file.execute()"
   ]
  },
  {
   "cell_type": "code",
   "execution_count": null,
   "metadata": {},
   "outputs": [],
   "source": [
    "# Simple ways to tricks ownership file in hadoop\n",
    "# Tricks:\n",
    "#   1. create a group users\n",
    "#   2. add users into the groups\n",
    "#   3. change owner\n",
    "#   4. refresh hadoop\n",
    "#   5. check the web ui or use command\n",
    "#   6. how to use\n",
    "\n",
    "\n",
    "#   1. create a group users\n",
    "create_group=  command.commandline(\"docker exec container_id|container_name groupadd:groupname\")\n",
    "create_group.execute()\n",
    "\n",
    "#   2. add users into the groups\n",
    "userTogroup= command.commandline(\"docker exec container_id|container_name useradd -g groupname username\")\n",
    "userTogroup.execute()\n",
    "\n",
    "#   3. change owner\n",
    "chown_ = command.commandline(\"docker exec container_id|container_name hdfs dfs -chown -R username:groupname /path file\")\n",
    "chown_.execute()\n",
    "\n",
    "#   4. refresh hadoop\n",
    "refresh= command.commandline(\"docker exec container_id|container_name hdfs dfsadmin -refreshUserToGroupsMappings\")\n",
    "refresh.execute()\n",
    "\n",
    "#   5. check result use command line\n",
    "check_ = command.commandline(\"docker exec container_id|container_name hdfs dfs -ls /path file \")\n",
    "check_.execute()\n",
    "\n",
    "#   6. how to use by a specific username\n",
    "how_use= command.commandline(\"docker exec -u username container_id|container_name hdfs dfs -option /path file\")\n",
    "how_use.execute()"
   ]
  },
  {
   "cell_type": "code",
   "execution_count": null,
   "metadata": {},
   "outputs": [],
   "source": [
    "# mainly 7 file formats supported by Hadoop\n",
    "#  "
   ]
  }
 ],
 "metadata": {
  "language_info": {
   "codemirror_mode": {
    "name": "ipython",
    "version": 3
   },
   "file_extension": ".py",
   "mimetype": "text/x-python",
   "name": "python",
   "nbconvert_exporter": "python",
   "pygments_lexer": "ipython3",
   "version": "3.7.7-final"
  },
  "orig_nbformat": 2,
  "kernelspec": {
   "name": "python37764bitulwanconda5356d95607c04bdea693a2fc92842d08",
   "display_name": "Python 3.7.7 64-bit ('ulwan': conda)"
  }
 },
 "nbformat": 4,
 "nbformat_minor": 2
}