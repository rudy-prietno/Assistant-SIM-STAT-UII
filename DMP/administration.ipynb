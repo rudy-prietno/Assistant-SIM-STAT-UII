{
 "cells": [
  {
   "cell_type": "code",
   "execution_count": 1,
   "metadata": {},
   "outputs": [],
   "source": [
    "from commandl import command"
   ]
  },
  {
   "cell_type": "markdown",
   "metadata": {},
   "source": [
    "## The most used commands"
   ]
  },
  {
   "cell_type": "markdown",
   "metadata": {},
   "source": [
    "### linux command basic"
   ]
  },
  {
   "cell_type": "code",
   "execution_count": 20,
   "metadata": {
    "tags": []
   },
   "outputs": [
    {
     "output_type": "stream",
     "name": "stdout",
     "text": "/home/rudy/Documents/Belajar/Assistant-SIM/DMP\n"
    }
   ],
   "source": [
    "# show path working directory\n",
    "show_pathdir= command.commandline('pwd')\n",
    "show_pathdir.execute()"
   ]
  },
  {
   "cell_type": "code",
   "execution_count": null,
   "metadata": {
    "tags": []
   },
   "outputs": [],
   "source": [
    "# show file in directory\n",
    "show_file= command.commandline('ls -l data')\n",
    "show_file.execute()"
   ]
  },
  {
   "cell_type": "code",
   "execution_count": null,
   "metadata": {
    "tags": []
   },
   "outputs": [],
   "source": [
    "# search for a specific filename\n",
    "search= command.commandline('find -name filename')\n",
    "search.execute()"
   ]
  },
  {
   "cell_type": "code",
   "execution_count": null,
   "metadata": {
    "tags": []
   },
   "outputs": [],
   "source": [
    "# create a new directory\n",
    "makedir= command.commandline('mkdir directory name')\n",
    "makedir.execute()"
   ]
  },
  {
   "cell_type": "code",
   "execution_count": null,
   "metadata": {
    "tags": []
   },
   "outputs": [],
   "source": [
    "# create file\n",
    "# tricks:\n",
    "#   1. create file empty and append data\n",
    "#   2. create files and enter data directly\n",
    "\n",
    "\n",
    "#   1. create file empty and append data\n",
    "create_empty= command.commandline('touch test.csv')\n",
    "create_empty.execute()\n",
    "\n",
    "append_data= command.commandline(\n",
    "                              '''{   \n",
    "                                echo '  column_1,column_2,column_3,column_4'\n",
    "                                echo '  0097A,0374D,100903,1519'\n",
    "                                echo '  0097A,C88RA,100903,0724'\n",
    "                            } >> test.csv\n",
    "                        ''')\n",
    "append_data.execute()\n",
    "\n",
    "#   2. create files and enter data directly\n",
    "create_file= command.commandline('''\n",
    "cat <<EOT >> greetings.txt \n",
    "column_1,column_2,column_3,column_4 \n",
    "0097A,0374D,100903,1519\n",
    "0097A,C88RA,100903,0724 \n",
    "EOT\n",
    "''')\n",
    "create_file.execute()"
   ]
  },
  {
   "cell_type": "code",
   "execution_count": null,
   "metadata": {
    "tags": []
   },
   "outputs": [],
   "source": [
    "# print or display data\n",
    "display_data= command.commandline('cat filename')\n",
    "display_data.execute()"
   ]
  },
  {
   "cell_type": "code",
   "execution_count": null,
   "metadata": {
    "tags": []
   },
   "outputs": [],
   "source": [
    "# move file\n",
    "move_file= command.commandline('mv \"origin path file\" \"destination path file\"')\n",
    "move_file.execute()"
   ]
  },
  {
   "cell_type": "code",
   "execution_count": null,
   "metadata": {
    "tags": []
   },
   "outputs": [],
   "source": [
    "# copy file\n",
    "copy_file= command.commandline('cp \"origin path file\" \"destination path file\"')\n",
    "copy_file.execute()"
   ]
  },
  {
   "cell_type": "code",
   "execution_count": null,
   "metadata": {
    "tags": []
   },
   "outputs": [],
   "source": [
    "# remove file \n",
    "rm_file= command.commandline('rm -rf path to file')\n",
    "rm_file.execute()"
   ]
  },
  {
   "cell_type": "markdown",
   "metadata": {},
   "source": [
    "## docker command\n"
   ]
  },
  {
   "cell_type": "code",
   "execution_count": null,
   "metadata": {
    "tags": []
   },
   "outputs": [],
   "source": [
    "# docker help commands for show documentation\n",
    "command_help_docker= command.commandline('docker --help')\n",
    "command_help_docker.execute()"
   ]
  },
  {
   "cell_type": "code",
   "execution_count": null,
   "metadata": {
    "tags": []
   },
   "outputs": [],
   "source": [
    "# docker command show images\n",
    "show_images= command.commandline('docker images')\n",
    "show_images.execute()"
   ]
  },
  {
   "cell_type": "code",
   "execution_count": null,
   "metadata": {
    "tags": []
   },
   "outputs": [],
   "source": [
    "# docker command show containers\n",
    "show_container= command.commandline('docker container ls -a')\n",
    "show_container.execute()"
   ]
  },
  {
   "cell_type": "code",
   "execution_count": null,
   "metadata": {
    "tags": []
   },
   "outputs": [],
   "source": [
    "# docker-compose help commands for show documentation\n",
    "command_help_docker= command.commandline('docker-compose --help')\n",
    "command_help_docker.execute()"
   ]
  },
  {
   "cell_type": "code",
   "execution_count": null,
   "metadata": {},
   "outputs": [],
   "source": [
    "# docker-compose create and start containers\n",
    "compose_run= command.commandline('docker-compose  -f path to file docker-compose.yml up -d')\n",
    "compose_run.execute()"
   ]
  },
  {
   "cell_type": "code",
   "execution_count": null,
   "metadata": {
    "tags": []
   },
   "outputs": [],
   "source": [
    "# docker-compose Stop and remove containers, networks, images, and volumes\n",
    "compose_dead= command.commandline('docker-compose -f path to file docker-compose.yml down')\n",
    "compose_dead.execute()"
   ]
  },
  {
   "cell_type": "code",
   "execution_count": null,
   "metadata": {
    "tags": []
   },
   "outputs": [],
   "source": [
    "# docker help command for show documentation volume\n",
    "help_volume= command.commandline(\"docker volume --help\")\n",
    "help_volume.execute()"
   ]
  },
  {
   "cell_type": "code",
   "execution_count": null,
   "metadata": {},
   "outputs": [],
   "source": [
    "# docker show info of volume\n",
    "show_volume= command.commandline(\"docker volume ls\")\n",
    "show_volume.execute()"
   ]
  },
  {
   "cell_type": "code",
   "execution_count": null,
   "metadata": {},
   "outputs": [],
   "source": [
    "# docker show info of containers\n",
    "show_simple_con= command.commandline('docker ps -a | docker container ls --all')\n",
    "show_simple_con.execute()"
   ]
  },
  {
   "cell_type": "code",
   "execution_count": null,
   "metadata": {
    "tags": []
   },
   "outputs": [],
   "source": [
    "# docker show id_container and name_container only\n",
    "show_simple_con= command.commandline('docker ps -a --format \"table {{.ID}}\\t{{.Names}}\"')\n",
    "show_simple_con.execute()"
   ]
  },
  {
   "cell_type": "code",
   "execution_count": null,
   "metadata": {
    "tags": []
   },
   "outputs": [],
   "source": [
    "# show docker network info\n",
    "show_network= command.commandline('docker network ls')\n",
    "show_network.execute()"
   ]
  },
  {
   "cell_type": "code",
   "execution_count": null,
   "metadata": {
    "tags": []
   },
   "outputs": [],
   "source": [
    "# get a docker container network detail\n",
    "network_detail=command.commandline('docker network inspect network_id')\n",
    "network_detail.execute()"
   ]
  },
  {
   "cell_type": "code",
   "execution_count": null,
   "metadata": {
    "tags": []
   },
   "outputs": [],
   "source": [
    "# get a docker name container + IPv4Address only\n",
    "IP4_container=command.commandline (\"docker inspect -f '{{.Name}} - {{range .NetworkSettings.Networks}}{{.IPAddress}}{{end}}' $(docker ps -aq)\")\n",
    "IP4_container.execute()"
   ]
  },
  {
   "cell_type": "markdown",
   "metadata": {},
   "source": [
    "## This is ways to access and operation a container\n",
    "-  Access specific container + run command linux or command hadoop\n",
    "    -  docker exec + container_id|container_name + command linux or command hadoop"
   ]
  },
  {
   "cell_type": "code",
   "execution_count": null,
   "metadata": {
    "tags": []
   },
   "outputs": [],
   "source": [
    "# command linux \"show file\"\n",
    "container_file= command.commandline(\"docker exec container_id|container_name ls -l /path file\")\n",
    "container_file.execute()"
   ]
  },
  {
   "cell_type": "code",
   "execution_count": null,
   "metadata": {
    "tags": []
   },
   "outputs": [],
   "source": [
    "# hadoop command \"show file\"\n",
    "hdfs_file=command.commandline(\"docker exec container_id|container_name hdfs dfs -ls /\")\n",
    "hdfs_file.execute()"
   ]
  },
  {
   "cell_type": "code",
   "execution_count": null,
   "metadata": {},
   "outputs": [],
   "source": [
    "# hadoop command \"make directory\"\n",
    "hdfs_mkdri= command.commandline(\"docker exec container_id|container_name hdfs dfs -mkdir /path file\")\n",
    "hdfs_mkdri.execute()"
   ]
  },
  {
   "cell_type": "code",
   "execution_count": null,
   "metadata": {},
   "outputs": [],
   "source": [
    "# hadoop command \"remove directory\"\n",
    "hdfs_rmdir= command.commandline(\"docker exec container_id|container_name hdfs dfs -rm -R /path file\")\n",
    "hdfs_rmdir.execute()"
   ]
  },
  {
   "cell_type": "code",
   "execution_count": null,
   "metadata": {},
   "outputs": [],
   "source": [
    "# hadoop command \"create file\" with zero length and \"create file\" text format\n",
    "hdfs_create= command.commandline(\"docker exec container_id|container_name hdfs dfs -touchz /path file\")\n",
    "hdfs_create= command.commandline(\"docker exec container_id|container_name hdfs dfs -text /path file\")\n",
    "hdfs_create.execute()"
   ]
  },
  {
   "cell_type": "code",
   "execution_count": null,
   "metadata": {},
   "outputs": [],
   "source": [
    "# hadoop command \"Appends the content\" of a local file test1 to a hdfs file test2\n",
    "hdfs_append = command.commandline(\"docker exec container_id|container_name hdfs dfs -appendToFile /path file origin /path file destination\")\n",
    "hdfs_append.execute()"
   ]
  },
  {
   "cell_type": "code",
   "execution_count": null,
   "metadata": {},
   "outputs": [],
   "source": [
    "# hadoop command \n",
    "# \"read file\" show all row, \n",
    "# \"read file\" show tail row, \n",
    "# \"read file\" show head row, \n",
    "# \"read file\" with random sample for fast respone data\n",
    "\n",
    "hdfs_read= command.commandline(\"docker exec container_id|container_name hdfs dfs -cat /path file\")\n",
    "hdfs_read= command.commandline(\"docker exec container_id|container_name hdfs dfs -cat /path file | tail -n\")\n",
    "hdfs_read= command.commandline(\"docker exec container_id|container_name hdfs dfs -cat /path file | head -n\")\n",
    "hdfs_read= command.commandline(\"docker exec container_id|container_name hdfs dfs -cat /path file | shuf -n n\")\n",
    "hdfs_read.execute()"
   ]
  },
  {
   "cell_type": "code",
   "execution_count": null,
   "metadata": {},
   "outputs": [],
   "source": [
    "# hadoop command \"set file number of replication\"\n",
    "hdfs_rep= command.commandline(\"docker exec container_id|container_name hadoop dfs -setrep -w 'number of replication' /path file\")\n",
    "hdfs_rep.execute()"
   ]
  },
  {
   "cell_type": "code",
   "execution_count": null,
   "metadata": {},
   "outputs": [],
   "source": [
    "# hadoop command \"remove file\" with move into trash\n",
    "hdfs_rm= command.commandline(\"docker exec container_id|container_name hdfs dfs -rm -r /path file\")\n",
    "hdfs_rm.execute()"
   ]
  },
  {
   "cell_type": "code",
   "execution_count": null,
   "metadata": {},
   "outputs": [],
   "source": [
    "# hadoop command \"recorvery file\"\n",
    "recorvery_file= command.commandline(\"docker exec container_id|container_name hdfs dfs -mv /path file trash /path file destination\")\n",
    "recorvery_file.execute()"
   ]
  },
  {
   "cell_type": "code",
   "execution_count": null,
   "metadata": {},
   "outputs": [],
   "source": [
    "# hadoop command \"remove file\" without move into trash\n",
    "hdfs_rm_trash= command.commandline(\"docker exec container_id|container_name hdfs dfs -rm -r -skipTrash /path file\")\n",
    "hdfs_rm_trash.execute()"
   ]
  },
  {
   "cell_type": "code",
   "execution_count": null,
   "metadata": {},
   "outputs": [],
   "source": [
    "# hadoop command \"empty the trash\"\n",
    "clear_trash=command.commandline(\"docker exec container_id|container_name hdfs dfs -expunge\")\n",
    "clear_trash.execute()"
   ]
  },
  {
   "cell_type": "code",
   "execution_count": null,
   "metadata": {},
   "outputs": [],
   "source": [
    "# hadoop command \"upload file\" from local computer into hadoop\n",
    "# triks:\n",
    "#   1. upload file from local computer into local container\n",
    "#   2. upload file from local container into hadoop\n",
    "\n",
    "\n",
    "#   1. upload file from local computer into local container\n",
    "upload_1 = command.commandline(\"docker cp /path file container_id:/path file\")\n",
    "upload_1.execute()\n",
    "\n",
    "\n",
    "#   2. upload file from local container into hadoop\n",
    "upload_2_1 = command.commandline(\"docker exec container_id|container_name hdfs dfs -copyFromLocal /path origin file /path destination file\")\n",
    "upload_2_1.execute()\n",
    "\n",
    "upload_2_2 = command.commandline(\"docker exec container_id|container_name hdfs dfs -moveFromLocal /path origin file /path destination file\")\n",
    "upload_2_2.execute()"
   ]
  },
  {
   "cell_type": "code",
   "execution_count": null,
   "metadata": {},
   "outputs": [],
   "source": [
    "# hadoop command \"download file\" from hadoop into local computer\n",
    "# triks:\n",
    "#   1. download file from hadoop into local container\n",
    "#   2. download file from local container into local computer\n",
    "\n",
    "\n",
    "#   1. download file from hadoop into local container\n",
    "download_1 = command.commandline(\"docker exec container_id|container_name hdfs dfs -copyToLocal /path origin file /path destination file\")\n",
    "download_1.execute()\n",
    "\n",
    "\n",
    "#   2. download file from local container into local computer\n",
    "download_2 = command.commandline(\"docker cp container_id:/path file /path file\")\n",
    "download_2.execute()\n"
   ]
  },
  {
   "cell_type": "code",
   "execution_count": null,
   "metadata": {},
   "outputs": [],
   "source": [
    "# hadoop command \"copy file\" in between folder in hadoop\n",
    "hdfs_copy= command.commandline(\"docker exec container_id|container_name hdfs dfs -cp -p /path origin file /path destination file\")\n",
    "hdfs_copy.execute()"
   ]
  },
  {
   "cell_type": "code",
   "execution_count": null,
   "metadata": {},
   "outputs": [],
   "source": [
    "# hadoop command \"shows the capacity, free and used space of the filesystem\". -h parameter Formats the sizes of files in a human-readable fashion.\n",
    "capacity= command.commandline(\"docker exec container_id|container_name hdfs dfs -df -h path file\")\n",
    "capacity.execute()"
   ]
  },
  {
   "cell_type": "code",
   "execution_count": null,
   "metadata": {},
   "outputs": [],
   "source": [
    "# hadoop command \"show the amount of space, in bytes, used by the files that match the specified file pattern\".\n",
    "amount_file= command.commandline(\"docker exec container_id|container_name hdfs dfs -du -h path file\")\n",
    "amount_file.execute()"
   ]
  },
  {
   "cell_type": "code",
   "execution_count": null,
   "metadata": {},
   "outputs": [],
   "source": [
    "# Simple ways to tricks ownership file in hadoop\n",
    "# Tricks:\n",
    "#   1. create a group users\n",
    "#   2. add users into the groups\n",
    "#   3. change owner\n",
    "#   4. refresh hadoop\n",
    "#   5. check the web ui or use command\n",
    "#   6. how to use\n",
    "\n",
    "\n",
    "#   1. create a group users\n",
    "create_group=  command.commandline(\"docker exec container_id|container_name groupadd:groupname\")\n",
    "create_group.execute()\n",
    "\n",
    "#   2. add users into the groups\n",
    "userTogroup= command.commandline(\"docker exec container_id|container_name useradd -g groupname username\")\n",
    "userTogroup.execute()\n",
    "\n",
    "#   3. change owner\n",
    "chown_ = command.commandline(\"docker exec container_id|container_name hdfs dfs -chown -R username:groupname /path file\")\n",
    "chown_.execute()\n",
    "\n",
    "#   4. refresh hadoop\n",
    "refresh= command.commandline(\"docker exec container_id|container_name hdfs dfsadmin -refreshUserToGroupsMappings\")\n",
    "refresh.execute()\n",
    "\n",
    "#   5. check result use command line\n",
    "check_ = command.commandline(\"docker exec container_id|container_name hdfs dfs -ls /path file \")\n",
    "check_.execute()\n",
    "\n",
    "#   6. how to use by a specific username\n",
    "how_use= command.commandline(\"docker exec -u username container_id|container_name hdfs dfs -option /path file\")\n",
    "how_use.execute()\n"
   ]
  },
  {
   "cell_type": "code",
   "execution_count": null,
   "metadata": {
    "tags": []
   },
   "outputs": [],
   "source": [
    "test= command.commandline(\"docker exec namenode hdfs dfs -chown -R rudy:analyst /rudy \")\n",
    "test.execute()"
   ]
  },
  {
   "cell_type": "code",
   "execution_count": null,
   "metadata": {
    "tags": []
   },
   "outputs": [],
   "source": [
    "test= command.commandline(\"docker exec namenode hdfs dfs -ls /rudy \")\n",
    "test.execute()"
   ]
  },
  {
   "cell_type": "code",
   "execution_count": null,
   "metadata": {
    "tags": []
   },
   "outputs": [],
   "source": [
    "test= command.commandline(\"docker exec namenode hdfs dfsadmin -refreshUserToGroupsMappings\")\n",
    "test.execute()"
   ]
  },
  {
   "cell_type": "code",
   "execution_count": null,
   "metadata": {
    "tags": []
   },
   "outputs": [],
   "source": [
    "test= command.commandline(\"docker exec -u desi namenode hdfs dfs -mkdir /rudy\")\n",
    "test.execute()"
   ]
  },
  {
   "cell_type": "code",
   "execution_count": null,
   "metadata": {
    "tags": []
   },
   "outputs": [],
   "source": [
    "test= command.commandline(\"docker exec -u rudy namenode hdfs dfs -ls /\")\n",
    "test.execute()"
   ]
  },
  {
   "cell_type": "code",
   "execution_count": null,
   "metadata": {
    "tags": []
   },
   "outputs": [],
   "source": [
    "test= command.commandline(\"docker exec -u rudy namenode hdfs dfs -expunge\")\n",
    "test.execute()"
   ]
  },
  {
   "cell_type": "code",
   "execution_count": null,
   "metadata": {},
   "outputs": [],
   "source": [
    "userTogroup= command.commandline(\"docker exec namenode useradd -g groupname username\")\n",
    "userTogroup.execute()"
   ]
  }
 ],
 "metadata": {
  "language_info": {
   "codemirror_mode": {
    "name": "ipython",
    "version": 3
   },
   "file_extension": ".py",
   "mimetype": "text/x-python",
   "name": "python",
   "nbconvert_exporter": "python",
   "pygments_lexer": "ipython3",
   "version": "3.7.7-final"
  },
  "orig_nbformat": 2,
  "kernelspec": {
   "name": "python37764bitulwanconda5356d95607c04bdea693a2fc92842d08",
   "display_name": "Python 3.7.7 64-bit ('ulwan': conda)"
  }
 },
 "nbformat": 4,
 "nbformat_minor": 2
}